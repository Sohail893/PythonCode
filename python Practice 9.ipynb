{
 "cells": [
  {
   "cell_type": "markdown",
   "id": "fd3e8ef5",
   "metadata": {},
   "source": [
    "A company decided to give bonus of 5% to employee if his/her year of service is more than 5 years.Ask user for their\n",
    "salary and year of service and print the net bonus amount"
   ]
  },
  {
   "cell_type": "code",
   "execution_count": null,
   "id": "593d2334",
   "metadata": {},
   "outputs": [],
   "source": [
    "salary = int(input(\"Enter the salary\"))\n",
    "year_of_service = int(input(\"Enter the year of service\"))\n",
    "if year_of_service >5:\n",
    "    bonus = salary*0.05\n",
    "else:\n",
    "    bonus = salary*0\n",
    "print(salary)\n",
    "print(year_of_service)\n",
    "print(bonus+salary)"
   ]
  },
  {
   "cell_type": "markdown",
   "id": "b16648ba",
   "metadata": {},
   "source": [
    "Write a program to check whether a person is eligible for voting or not (accept age from user) if age is greater than 17 \n",
    "eligible otherwise not eligible"
   ]
  },
  {
   "cell_type": "code",
   "execution_count": null,
   "id": "a5087886",
   "metadata": {},
   "outputs": [],
   "source": [
    "age = int(input(\"Enter the age\"))\n",
    "if age >17:\n",
    "    print(\"eligible for voting\")\n",
    "else:\n",
    "    print(\"not eligible\")"
   ]
  },
  {
   "cell_type": "code",
   "execution_count": null,
   "id": "49b598e0",
   "metadata": {},
   "outputs": [],
   "source": [
    "if int(input(\"Enter age\")) >17 and input(\"Do you have CNIC\") == \"yes\":\n",
    "    print(\"You are eligible\")\n",
    "else:\n",
    "    print(\"not eligible\")"
   ]
  },
  {
   "cell_type": "markdown",
   "id": "8b930013",
   "metadata": {},
   "source": [
    "Write a program to display the last digit of a number\n"
   ]
  },
  {
   "cell_type": "code",
   "execution_count": null,
   "id": "36536283",
   "metadata": {},
   "outputs": [],
   "source": [
    "number = input(\"Enter the number\")\n",
    "\n",
    "int(number[-1])\n"
   ]
  },
  {
   "cell_type": "code",
   "execution_count": null,
   "id": "acabc362",
   "metadata": {},
   "outputs": [],
   "source": [
    "number = int(input(\"Enter the number\"))\n",
    "print(number%10)"
   ]
  },
  {
   "cell_type": "markdown",
   "id": "bd9e8bab",
   "metadata": {},
   "source": [
    "Write a program to check whether the last digit of a number (entered by user) is divisble by 3 or not"
   ]
  },
  {
   "cell_type": "code",
   "execution_count": null,
   "id": "8bb02c5b",
   "metadata": {},
   "outputs": [],
   "source": [
    "number = int(input(\"Enter the last digit\"))\n",
    "\n",
    "last_digit = number%10\n",
    "if last_digit%3==0:\n",
    "    print(\"divisble by 3\")\n",
    "else:\n",
    "    print(\"not divisible\")"
   ]
  },
  {
   "cell_type": "code",
   "execution_count": null,
   "id": "927ee6f8",
   "metadata": {},
   "outputs": [],
   "source": [
    "print(((int(input(\"enter the number\")))%10)%3==0)"
   ]
  },
  {
   "cell_type": "code",
   "execution_count": null,
   "id": "b8327a98",
   "metadata": {},
   "outputs": [],
   "source": [
    "int((int(input(\"enter the number\"))%100)/10)"
   ]
  },
  {
   "cell_type": "markdown",
   "id": "7ec4ffb8",
   "metadata": {},
   "source": [
    "Takes values of length and breadth of a rectangle from user and print if it square or rectangle"
   ]
  },
  {
   "cell_type": "code",
   "execution_count": null,
   "id": "313db22e",
   "metadata": {},
   "outputs": [],
   "source": [
    "length = int(input(\"Enter the length\"))\n",
    "breadth = int(input(\"Enter the breadth\"))\n",
    "if length == breadth:\n",
    "    print(\"square\")\n",
    "else:\n",
    "    print(\"rectange\")"
   ]
  },
  {
   "cell_type": "markdown",
   "id": "ae20b6ea",
   "metadata": {},
   "source": [
    "Take two int values from user and print greastest among them\n"
   ]
  },
  {
   "cell_type": "code",
   "execution_count": null,
   "id": "b6e54f61",
   "metadata": {},
   "outputs": [],
   "source": [
    "num1 = int(input(\"Enter the num1\"))\n",
    "num2 = int(input(\"Enter the num2\"))\n",
    "if num1 >num2:\n",
    "    print(\"num1 is greater\")\n",
    "else:\n",
    "    print(\"num2 is greater \")"
   ]
  },
  {
   "cell_type": "markdown",
   "id": "eb9348ae",
   "metadata": {},
   "source": [
    "A shop will give discount of 10% if the cost of purchased quantity is more than 1000. Ask user for quantity Suppose,\n",
    "one unit will cost 100. Judge and print the total cost from user"
   ]
  },
  {
   "cell_type": "code",
   "execution_count": null,
   "id": "99f3b0f7",
   "metadata": {},
   "outputs": [],
   "source": [
    "quantity = int(input(\"Enter the quantity\"))\n",
    "cost = 100\n",
    "total_cost = quantity*cost\n",
    "if total_cost >1000:\n",
    "    discount = total_cost*0.10\n",
    "print(total_cost-discount)\n"
   ]
  },
  {
   "cell_type": "code",
   "execution_count": 2,
   "id": "de250c4c",
   "metadata": {},
   "outputs": [
    {
     "name": "stdout",
     "output_type": "stream",
     "text": [
      "Enter the total conducted 10\n",
      "Enter the total classes attended9\n",
      "90.0 not allowed\n"
     ]
    }
   ],
   "source": [
    "class_held = int(input(\"Enter the total conducted \"))\n",
    "class_attend = int(input(\"Enter the total classes attended\"))\n",
    "percentage = class_attend/class_held*100\n",
    "if percentage <75:\n",
    "    medical_issue = input(\"Any medical issue\").lower()\n",
    "    if medical_issue == \"yes\":\n",
    "        print(\"Allowed\")\n",
    "    else:\n",
    "        print(\"not allowed\")\n",
    "else:\n",
    "    print(percentage,\"not allowed\")"
   ]
  },
  {
   "cell_type": "markdown",
   "id": "9156b920",
   "metadata": {},
   "source": [
    "write a program calculate the electricty bill \n",
    "upto 100 units = no\n",
    "next 200 units = 5 perunit\n",
    "after  200 units = 10 perunit\n"
   ]
  },
  {
   "cell_type": "code",
   "execution_count": 8,
   "id": "fd2ea5ea",
   "metadata": {},
   "outputs": [
    {
     "name": "stdout",
     "output_type": "stream",
     "text": [
      "Units consumed9\n"
     ]
    },
    {
     "data": {
      "text/plain": [
       "0"
      ]
     },
     "execution_count": 8,
     "metadata": {},
     "output_type": "execute_result"
    }
   ],
   "source": [
    "units_consumed = int(input(\"Units consumed\"))\n",
    "bill_amount= 0\n",
    "if units_consumed <=100:\n",
    "    bill_amount = units_consumed*0\n",
    "elif units_consumed <=300:\n",
    "    bill_amount = (units_consumed-100)*5\n",
    "elif units_consumed <=500:\n",
    "    bill_amount = 100*0 + 200*5 +(units_consumed-300)*10\n",
    "bill_amount    "
   ]
  },
  {
   "cell_type": "code",
   "execution_count": null,
   "id": "415e7532",
   "metadata": {},
   "outputs": [],
   "source": []
  }
 ],
 "metadata": {
  "kernelspec": {
   "display_name": "Python 3 (ipykernel)",
   "language": "python",
   "name": "python3"
  },
  "language_info": {
   "codemirror_mode": {
    "name": "ipython",
    "version": 3
   },
   "file_extension": ".py",
   "mimetype": "text/x-python",
   "name": "python",
   "nbconvert_exporter": "python",
   "pygments_lexer": "ipython3",
   "version": "3.11.5"
  }
 },
 "nbformat": 4,
 "nbformat_minor": 5
}
