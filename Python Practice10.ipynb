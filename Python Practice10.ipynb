{
 "cells": [
  {
   "cell_type": "code",
   "execution_count": 6,
   "id": "7c6a8734",
   "metadata": {},
   "outputs": [
    {
     "name": "stdout",
     "output_type": "stream",
     "text": [
      "Enter the comma separated namesnasir,ather,mazhar\n"
     ]
    },
    {
     "data": {
      "text/plain": [
       "['nasir', 'ather', 'mazhar']"
      ]
     },
     "execution_count": 6,
     "metadata": {},
     "output_type": "execute_result"
    }
   ],
   "source": [
    "names = input(\"Enter the comma separated names\").split(\",\")\n",
    "names"
   ]
  },
  {
   "cell_type": "code",
   "execution_count": 7,
   "id": "04310868",
   "metadata": {},
   "outputs": [
    {
     "data": {
      "text/plain": [
       "'nasir ather mazhar'"
      ]
     },
     "execution_count": 7,
     "metadata": {},
     "output_type": "execute_result"
    }
   ],
   "source": [
    "\" \".join(names)"
   ]
  },
  {
   "cell_type": "code",
   "execution_count": 8,
   "id": "746b40da",
   "metadata": {},
   "outputs": [
    {
     "name": "stdout",
     "output_type": "stream",
     "text": [
      "Enter coursespython,java,cyber\n"
     ]
    },
    {
     "data": {
      "text/plain": [
       "['pyth', 'n,java,cyber']"
      ]
     },
     "execution_count": 8,
     "metadata": {},
     "output_type": "execute_result"
    }
   ],
   "source": [
    "courses = input(\"Enter courses\").split(\"o\")\n",
    "courses"
   ]
  },
  {
   "cell_type": "code",
   "execution_count": 11,
   "id": "3fe84a56",
   "metadata": {},
   "outputs": [
    {
     "name": "stdout",
     "output_type": "stream",
     "text": [
      "Enter the number1 2 3 4\n"
     ]
    }
   ],
   "source": [
    "numbers  = [int(num) for num in input(\"Enter the number\").split(\" \")]"
   ]
  },
  {
   "cell_type": "code",
   "execution_count": 12,
   "id": "bb5a4f1f",
   "metadata": {},
   "outputs": [
    {
     "data": {
      "text/plain": [
       "[1, 2, 3, 4]"
      ]
     },
     "execution_count": 12,
     "metadata": {},
     "output_type": "execute_result"
    }
   ],
   "source": [
    "numbers"
   ]
  },
  {
   "cell_type": "markdown",
   "id": "f13ce699",
   "metadata": {},
   "source": [
    "# Dictionary\n",
    "- Collection/Data Structure\n",
    "- Mutable\n",
    "- Iterable\n",
    "- key:value"
   ]
  },
  {
   "cell_type": "code",
   "execution_count": 13,
   "id": "968f594f",
   "metadata": {},
   "outputs": [],
   "source": [
    "student = {'id':425,'name':'ali','course':'python'}"
   ]
  },
  {
   "cell_type": "code",
   "execution_count": 14,
   "id": "6f6866b3",
   "metadata": {},
   "outputs": [
    {
     "data": {
      "text/plain": [
       "{'id': 425, 'name': 'ali', 'course': 'python'}"
      ]
     },
     "execution_count": 14,
     "metadata": {},
     "output_type": "execute_result"
    }
   ],
   "source": [
    "student"
   ]
  },
  {
   "cell_type": "code",
   "execution_count": 16,
   "id": "e9b176cb",
   "metadata": {},
   "outputs": [
    {
     "data": {
      "text/plain": [
       "'ali'"
      ]
     },
     "execution_count": 16,
     "metadata": {},
     "output_type": "execute_result"
    }
   ],
   "source": [
    "student['name']"
   ]
  },
  {
   "cell_type": "code",
   "execution_count": 17,
   "id": "f8194874",
   "metadata": {},
   "outputs": [
    {
     "data": {
      "text/plain": [
       "425"
      ]
     },
     "execution_count": 17,
     "metadata": {},
     "output_type": "execute_result"
    }
   ],
   "source": [
    "student['id']"
   ]
  },
  {
   "cell_type": "code",
   "execution_count": 18,
   "id": "cb56ac39",
   "metadata": {},
   "outputs": [
    {
     "data": {
      "text/plain": [
       "dict"
      ]
     },
     "execution_count": 18,
     "metadata": {},
     "output_type": "execute_result"
    }
   ],
   "source": [
    "type(student)"
   ]
  },
  {
   "cell_type": "code",
   "execution_count": 19,
   "id": "0a81ab06",
   "metadata": {},
   "outputs": [
    {
     "data": {
      "text/plain": [
       "dict_keys(['id', 'name', 'course'])"
      ]
     },
     "execution_count": 19,
     "metadata": {},
     "output_type": "execute_result"
    }
   ],
   "source": [
    "student.keys()"
   ]
  },
  {
   "cell_type": "code",
   "execution_count": 20,
   "id": "0d711058",
   "metadata": {},
   "outputs": [
    {
     "data": {
      "text/plain": [
       "dict_values([425, 'ali', 'python'])"
      ]
     },
     "execution_count": 20,
     "metadata": {},
     "output_type": "execute_result"
    }
   ],
   "source": [
    "student.values()"
   ]
  },
  {
   "cell_type": "code",
   "execution_count": 21,
   "id": "ad4ff73a",
   "metadata": {},
   "outputs": [
    {
     "data": {
      "text/plain": [
       "dict_items([('id', 425), ('name', 'ali'), ('course', 'python')])"
      ]
     },
     "execution_count": 21,
     "metadata": {},
     "output_type": "execute_result"
    }
   ],
   "source": [
    "student.items()"
   ]
  },
  {
   "cell_type": "code",
   "execution_count": 22,
   "id": "a8c37cf8",
   "metadata": {},
   "outputs": [],
   "source": [
    "# Adding more key value pair to existing dictionary\n",
    "student['email'] = \"ali@gmail.com\""
   ]
  },
  {
   "cell_type": "code",
   "execution_count": 23,
   "id": "3dc4a097",
   "metadata": {},
   "outputs": [
    {
     "data": {
      "text/plain": [
       "{'id': 425, 'name': 'ali', 'course': 'python', 'email': 'ali@gmail.com'}"
      ]
     },
     "execution_count": 23,
     "metadata": {},
     "output_type": "execute_result"
    }
   ],
   "source": [
    "student"
   ]
  },
  {
   "cell_type": "code",
   "execution_count": 26,
   "id": "63e97d54",
   "metadata": {},
   "outputs": [
    {
     "data": {
      "text/plain": [
       "'ali'"
      ]
     },
     "execution_count": 26,
     "metadata": {},
     "output_type": "execute_result"
    }
   ],
   "source": [
    "student.get('name')"
   ]
  },
  {
   "cell_type": "code",
   "execution_count": 27,
   "id": "ad974e38",
   "metadata": {},
   "outputs": [
    {
     "data": {
      "text/plain": [
       "'ali'"
      ]
     },
     "execution_count": 27,
     "metadata": {},
     "output_type": "execute_result"
    }
   ],
   "source": [
    "student.pop('name')"
   ]
  },
  {
   "cell_type": "code",
   "execution_count": 28,
   "id": "0f64f64a",
   "metadata": {},
   "outputs": [
    {
     "data": {
      "text/plain": [
       "('email', 'ali@gmail.com')"
      ]
     },
     "execution_count": 28,
     "metadata": {},
     "output_type": "execute_result"
    }
   ],
   "source": [
    "student.popitem()"
   ]
  },
  {
   "cell_type": "code",
   "execution_count": 29,
   "id": "e526be72",
   "metadata": {},
   "outputs": [],
   "source": [
    "students = {'name':['mohib','sohail'],\n",
    "           'course':['python','web']}"
   ]
  },
  {
   "cell_type": "code",
   "execution_count": 31,
   "id": "0b261e81",
   "metadata": {},
   "outputs": [
    {
     "data": {
      "text/plain": [
       "{'name': ['mohib', 'sohail'], 'course': ['python', 'web']}"
      ]
     },
     "execution_count": 31,
     "metadata": {},
     "output_type": "execute_result"
    }
   ],
   "source": [
    "students"
   ]
  },
  {
   "cell_type": "code",
   "execution_count": 33,
   "id": "4116cb5c",
   "metadata": {},
   "outputs": [
    {
     "data": {
      "text/plain": [
       "['mohib', 'sohail']"
      ]
     },
     "execution_count": 33,
     "metadata": {},
     "output_type": "execute_result"
    }
   ],
   "source": [
    "students['name']"
   ]
  },
  {
   "cell_type": "code",
   "execution_count": 1,
   "id": "0ee0a35c",
   "metadata": {},
   "outputs": [],
   "source": [
    "items = {'laptop':12, 'mobile_phones':10}"
   ]
  },
  {
   "cell_type": "code",
   "execution_count": 2,
   "id": "0dee8f47",
   "metadata": {},
   "outputs": [
    {
     "data": {
      "text/plain": [
       "{'laptop': 12, 'mobile_phones': 10}"
      ]
     },
     "execution_count": 2,
     "metadata": {},
     "output_type": "execute_result"
    }
   ],
   "source": [
    "items"
   ]
  },
  {
   "cell_type": "code",
   "execution_count": 3,
   "id": "cbaf16c6",
   "metadata": {},
   "outputs": [
    {
     "data": {
      "text/plain": [
       "dict"
      ]
     },
     "execution_count": 3,
     "metadata": {},
     "output_type": "execute_result"
    }
   ],
   "source": [
    "type(items)"
   ]
  },
  {
   "cell_type": "code",
   "execution_count": 4,
   "id": "f6b02fe9",
   "metadata": {},
   "outputs": [
    {
     "data": {
      "text/plain": [
       "12"
      ]
     },
     "execution_count": 4,
     "metadata": {},
     "output_type": "execute_result"
    }
   ],
   "source": [
    "items['laptop']"
   ]
  },
  {
   "cell_type": "code",
   "execution_count": 5,
   "id": "ca3ab8d1",
   "metadata": {},
   "outputs": [],
   "source": [
    "items['laptop'] = 12"
   ]
  },
  {
   "cell_type": "code",
   "execution_count": 6,
   "id": "002e9bc6",
   "metadata": {},
   "outputs": [
    {
     "data": {
      "text/plain": [
       "{'laptop': 12, 'mobile_phones': 10}"
      ]
     },
     "execution_count": 6,
     "metadata": {},
     "output_type": "execute_result"
    }
   ],
   "source": [
    "items"
   ]
  },
  {
   "cell_type": "code",
   "execution_count": 8,
   "id": "217664f4",
   "metadata": {},
   "outputs": [],
   "source": [
    "del items['mobile_phones']"
   ]
  },
  {
   "cell_type": "code",
   "execution_count": 9,
   "id": "b8d670a7",
   "metadata": {},
   "outputs": [
    {
     "data": {
      "text/plain": [
       "{'laptop': 12}"
      ]
     },
     "execution_count": 9,
     "metadata": {},
     "output_type": "execute_result"
    }
   ],
   "source": [
    "items"
   ]
  },
  {
   "cell_type": "code",
   "execution_count": 12,
   "id": "4999be0f",
   "metadata": {},
   "outputs": [
    {
     "data": {
      "text/plain": [
       "dict_keys(['laptop'])"
      ]
     },
     "execution_count": 12,
     "metadata": {},
     "output_type": "execute_result"
    }
   ],
   "source": [
    "items.keys()"
   ]
  },
  {
   "cell_type": "code",
   "execution_count": 13,
   "id": "c5abac52",
   "metadata": {},
   "outputs": [],
   "source": [
    "items['cell'] = 100\n",
    "items['systems'] = 23\n",
    "items['battery'] = 3"
   ]
  },
  {
   "cell_type": "code",
   "execution_count": 14,
   "id": "4a7d94b6",
   "metadata": {},
   "outputs": [
    {
     "data": {
      "text/plain": [
       "{'laptop': 12, 'cell': 100, 'systems': 23, 'battery': 3}"
      ]
     },
     "execution_count": 14,
     "metadata": {},
     "output_type": "execute_result"
    }
   ],
   "source": [
    "items"
   ]
  },
  {
   "cell_type": "code",
   "execution_count": 15,
   "id": "b58869f7",
   "metadata": {},
   "outputs": [
    {
     "data": {
      "text/plain": [
       "3"
      ]
     },
     "execution_count": 15,
     "metadata": {},
     "output_type": "execute_result"
    }
   ],
   "source": [
    "items.pop('battery')"
   ]
  },
  {
   "cell_type": "code",
   "execution_count": 16,
   "id": "c9292ba2",
   "metadata": {},
   "outputs": [
    {
     "data": {
      "text/plain": [
       "('systems', 23)"
      ]
     },
     "execution_count": 16,
     "metadata": {},
     "output_type": "execute_result"
    }
   ],
   "source": [
    "items.popitem()"
   ]
  },
  {
   "cell_type": "code",
   "execution_count": 18,
   "id": "deff137e",
   "metadata": {},
   "outputs": [
    {
     "data": {
      "text/plain": [
       "12"
      ]
     },
     "execution_count": 18,
     "metadata": {},
     "output_type": "execute_result"
    }
   ],
   "source": [
    "items.get('laptop')\n",
    "#items['get'] same"
   ]
  },
  {
   "cell_type": "code",
   "execution_count": 19,
   "id": "b019f3e3",
   "metadata": {},
   "outputs": [],
   "source": [
    "more_items = {'copies':23,'pens':123,'lights':12,'staplers':4}"
   ]
  },
  {
   "cell_type": "code",
   "execution_count": 20,
   "id": "87772c13",
   "metadata": {},
   "outputs": [
    {
     "data": {
      "text/plain": [
       "{'copies': 23, 'pens': 123, 'lights': 12, 'staplers': 4}"
      ]
     },
     "execution_count": 20,
     "metadata": {},
     "output_type": "execute_result"
    }
   ],
   "source": [
    "more_items"
   ]
  },
  {
   "cell_type": "code",
   "execution_count": 21,
   "id": "91df1f2d",
   "metadata": {},
   "outputs": [],
   "source": [
    "items['stationary'] = more_items"
   ]
  },
  {
   "cell_type": "code",
   "execution_count": 22,
   "id": "fb76628c",
   "metadata": {},
   "outputs": [
    {
     "data": {
      "text/plain": [
       "{'laptop': 12,\n",
       " 'cell': 100,\n",
       " 'stationary': {'copies': 23, 'pens': 123, 'lights': 12, 'staplers': 4}}"
      ]
     },
     "execution_count": 22,
     "metadata": {},
     "output_type": "execute_result"
    }
   ],
   "source": [
    "items"
   ]
  },
  {
   "cell_type": "code",
   "execution_count": 23,
   "id": "6db77fca",
   "metadata": {},
   "outputs": [],
   "source": [
    "del items['stationary']"
   ]
  },
  {
   "cell_type": "code",
   "execution_count": 25,
   "id": "c0122031",
   "metadata": {},
   "outputs": [
    {
     "data": {
      "text/plain": [
       "{'laptop': 12, 'cell': 100}"
      ]
     },
     "execution_count": 25,
     "metadata": {},
     "output_type": "execute_result"
    }
   ],
   "source": [
    "items"
   ]
  },
  {
   "cell_type": "code",
   "execution_count": 27,
   "id": "ab64325d",
   "metadata": {},
   "outputs": [],
   "source": [
    "items.update(more_items)"
   ]
  },
  {
   "cell_type": "code",
   "execution_count": 28,
   "id": "ff99699a",
   "metadata": {},
   "outputs": [
    {
     "data": {
      "text/plain": [
       "{'laptop': 12,\n",
       " 'cell': 100,\n",
       " 'copies': 23,\n",
       " 'pens': 123,\n",
       " 'lights': 12,\n",
       " 'staplers': 4}"
      ]
     },
     "execution_count": 28,
     "metadata": {},
     "output_type": "execute_result"
    }
   ],
   "source": [
    "items"
   ]
  },
  {
   "cell_type": "code",
   "execution_count": 29,
   "id": "88306d7f",
   "metadata": {},
   "outputs": [],
   "source": [
    "fruits = 12,3,4,5 # packing"
   ]
  },
  {
   "cell_type": "code",
   "execution_count": 30,
   "id": "1d0baaed",
   "metadata": {},
   "outputs": [
    {
     "data": {
      "text/plain": [
       "(12, 3, 4, 5)"
      ]
     },
     "execution_count": 30,
     "metadata": {},
     "output_type": "execute_result"
    }
   ],
   "source": [
    "fruits"
   ]
  },
  {
   "cell_type": "code",
   "execution_count": 31,
   "id": "318432a6",
   "metadata": {},
   "outputs": [],
   "source": [
    "orange ,banana,apple,mango = fruits # unpakcing"
   ]
  },
  {
   "cell_type": "code",
   "execution_count": 32,
   "id": "37b666b7",
   "metadata": {},
   "outputs": [
    {
     "data": {
      "text/plain": [
       "12"
      ]
     },
     "execution_count": 32,
     "metadata": {},
     "output_type": "execute_result"
    }
   ],
   "source": [
    "orange"
   ]
  },
  {
   "cell_type": "code",
   "execution_count": 33,
   "id": "5a6c3269",
   "metadata": {},
   "outputs": [
    {
     "data": {
      "text/plain": [
       "3"
      ]
     },
     "execution_count": 33,
     "metadata": {},
     "output_type": "execute_result"
    }
   ],
   "source": [
    "banana"
   ]
  },
  {
   "cell_type": "code",
   "execution_count": 35,
   "id": "0eb8231c",
   "metadata": {},
   "outputs": [],
   "source": [
    "f = [1,2,4]"
   ]
  },
  {
   "cell_type": "code",
   "execution_count": 36,
   "id": "c0ba98f4",
   "metadata": {},
   "outputs": [
    {
     "data": {
      "text/plain": [
       "[1, 2, 4]"
      ]
     },
     "execution_count": 36,
     "metadata": {},
     "output_type": "execute_result"
    }
   ],
   "source": [
    "f"
   ]
  },
  {
   "cell_type": "markdown",
   "id": "5e65f942",
   "metadata": {},
   "source": [
    "# Tuple \n",
    "- python collection\n",
    "- immutable\n",
    "- index,copy,slicing"
   ]
  },
  {
   "cell_type": "code",
   "execution_count": 37,
   "id": "71ba49d6",
   "metadata": {},
   "outputs": [],
   "source": [
    "atuple = (11,22,33)"
   ]
  },
  {
   "cell_type": "code",
   "execution_count": 38,
   "id": "ab2e30ab",
   "metadata": {},
   "outputs": [
    {
     "data": {
      "text/plain": [
       "(11, 22, 33)"
      ]
     },
     "execution_count": 38,
     "metadata": {},
     "output_type": "execute_result"
    }
   ],
   "source": [
    "atuple"
   ]
  },
  {
   "cell_type": "code",
   "execution_count": 39,
   "id": "bbc2aca9",
   "metadata": {},
   "outputs": [
    {
     "data": {
      "text/plain": [
       "1"
      ]
     },
     "execution_count": 39,
     "metadata": {},
     "output_type": "execute_result"
    }
   ],
   "source": [
    "atuple.count(33)"
   ]
  },
  {
   "cell_type": "code",
   "execution_count": 41,
   "id": "fa284d4c",
   "metadata": {},
   "outputs": [
    {
     "data": {
      "text/plain": [
       "2"
      ]
     },
     "execution_count": 41,
     "metadata": {},
     "output_type": "execute_result"
    }
   ],
   "source": [
    "atuple.index(33)"
   ]
  },
  {
   "cell_type": "markdown",
   "id": "c628d673",
   "metadata": {},
   "source": [
    "# Set"
   ]
  },
  {
   "cell_type": "code",
   "execution_count": 42,
   "id": "05054d37",
   "metadata": {},
   "outputs": [],
   "source": [
    "aset = {1,2,3,4,5,4}"
   ]
  },
  {
   "cell_type": "code",
   "execution_count": 43,
   "id": "a8ceba12",
   "metadata": {},
   "outputs": [
    {
     "data": {
      "text/plain": [
       "{1, 2, 3, 4, 5}"
      ]
     },
     "execution_count": 43,
     "metadata": {},
     "output_type": "execute_result"
    }
   ],
   "source": [
    "aset"
   ]
  },
  {
   "cell_type": "code",
   "execution_count": 44,
   "id": "816f8a4c",
   "metadata": {},
   "outputs": [],
   "source": [
    "#loop\n",
    "foods = ['biryani','zarda','qorma','karahi','palak','nehari']"
   ]
  },
  {
   "cell_type": "code",
   "execution_count": 45,
   "id": "22a1eb9b",
   "metadata": {},
   "outputs": [
    {
     "data": {
      "text/plain": [
       "['biryani', 'zarda', 'qorma', 'karahi', 'palak', 'nehari']"
      ]
     },
     "execution_count": 45,
     "metadata": {},
     "output_type": "execute_result"
    }
   ],
   "source": [
    "foods"
   ]
  },
  {
   "cell_type": "code",
   "execution_count": 48,
   "id": "03a74d82",
   "metadata": {},
   "outputs": [
    {
     "name": "stdout",
     "output_type": "stream",
     "text": [
      "I like biryani\n"
     ]
    }
   ],
   "source": [
    "for a in foods:\n",
    "    if a == 'zarda':\n",
    "        break\n",
    "    print(f\"I like {a}\")"
   ]
  },
  {
   "cell_type": "code",
   "execution_count": 50,
   "id": "de92526c",
   "metadata": {},
   "outputs": [
    {
     "name": "stdout",
     "output_type": "stream",
     "text": [
      "I like biryani\n",
      "I like qorma\n",
      "I like karahi\n",
      "I like palak\n",
      "I like nehari\n"
     ]
    }
   ],
   "source": [
    "for a in foods:\n",
    "    if a =='zarda':\n",
    "        continue\n",
    "    print(f\"I like {a}\")    "
   ]
  },
  {
   "cell_type": "code",
   "execution_count": 51,
   "id": "e256b652",
   "metadata": {},
   "outputs": [
    {
     "name": "stdout",
     "output_type": "stream",
     "text": [
      "I like biryani\n",
      "I like zarda\n",
      "I like qorma\n",
      "I like karahi\n",
      "I like palak\n",
      "I like nehari\n"
     ]
    }
   ],
   "source": [
    "for a in foods:\n",
    "    if a == \"zarda\":\n",
    "        pass\n",
    "    print(f\"I like {a}\")"
   ]
  },
  {
   "cell_type": "code",
   "execution_count": 55,
   "id": "25bbb304",
   "metadata": {},
   "outputs": [
    {
     "name": "stdout",
     "output_type": "stream",
     "text": [
      "Enter the nameali\n",
      "Enter the namekhan\n",
      "Enter the namesohail\n",
      "Enter the namewaju\n",
      "Enter the nameq\n",
      "['ali', 'khan', 'sohail', 'waju']\n"
     ]
    }
   ],
   "source": [
    "friends = []\n",
    "for a in range(10):\n",
    "    name = input(\"Enter the name\")\n",
    "    if name =='q':\n",
    "        break\n",
    "    elif len(name)<=6:\n",
    "        friends.append(name)\n",
    "print(friends)        "
   ]
  },
  {
   "cell_type": "code",
   "execution_count": 56,
   "id": "f8c243c2",
   "metadata": {},
   "outputs": [
    {
     "data": {
      "text/plain": [
       "['ali', 'khan', 'sohail', 'waju']"
      ]
     },
     "execution_count": 56,
     "metadata": {},
     "output_type": "execute_result"
    }
   ],
   "source": [
    "friends"
   ]
  },
  {
   "cell_type": "code",
   "execution_count": 57,
   "id": "c81054df",
   "metadata": {},
   "outputs": [],
   "source": [
    "new = []\n",
    "for f in friends:\n",
    "    if f.startswith('a') or f.startswith('u') or f.endswith('d'):\n",
    "        new.append(f)"
   ]
  },
  {
   "cell_type": "code",
   "execution_count": 58,
   "id": "ccc396b3",
   "metadata": {},
   "outputs": [
    {
     "data": {
      "text/plain": [
       "['ali']"
      ]
     },
     "execution_count": 58,
     "metadata": {},
     "output_type": "execute_result"
    }
   ],
   "source": [
    "new"
   ]
  },
  {
   "cell_type": "code",
   "execution_count": null,
   "id": "79280190",
   "metadata": {},
   "outputs": [],
   "source": []
  }
 ],
 "metadata": {
  "kernelspec": {
   "display_name": "Python 3 (ipykernel)",
   "language": "python",
   "name": "python3"
  },
  "language_info": {
   "codemirror_mode": {
    "name": "ipython",
    "version": 3
   },
   "file_extension": ".py",
   "mimetype": "text/x-python",
   "name": "python",
   "nbconvert_exporter": "python",
   "pygments_lexer": "ipython3",
   "version": "3.11.5"
  }
 },
 "nbformat": 4,
 "nbformat_minor": 5
}
