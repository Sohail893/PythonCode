{
 "cells": [
  {
   "cell_type": "markdown",
   "id": "8cfd5a61",
   "metadata": {},
   "source": [
    "# While Loop\n",
    "- no need of collection\n",
    "- while"
   ]
  },
  {
   "cell_type": "code",
   "execution_count": 4,
   "id": "302622d0",
   "metadata": {},
   "outputs": [
    {
     "name": "stdout",
     "output_type": "stream",
     "text": [
      "Enter the guest nameali\n"
     ]
    }
   ],
   "source": [
    "guests = []\n",
    "guest = input(\"Enter the guest name\")\n",
    "guests.append(guest)\n"
   ]
  },
  {
   "cell_type": "code",
   "execution_count": 5,
   "id": "2cf54048",
   "metadata": {},
   "outputs": [
    {
     "data": {
      "text/plain": [
       "['ali']"
      ]
     },
     "execution_count": 5,
     "metadata": {},
     "output_type": "execute_result"
    }
   ],
   "source": [
    "guests"
   ]
  },
  {
   "cell_type": "code",
   "execution_count": 6,
   "id": "612cf4b8",
   "metadata": {},
   "outputs": [
    {
     "name": "stdout",
     "output_type": "stream",
     "text": [
      "Enter the namesohail\n",
      "Enter the namenasir \n",
      "Enter the nameather\n",
      "Enter the nameqamar\n",
      "Enter the namemazhar\n"
     ]
    }
   ],
   "source": [
    "for a in range(5):\n",
    "    guest = input(\"Enter the name\")\n",
    "    guests.append(guest)"
   ]
  },
  {
   "cell_type": "code",
   "execution_count": 7,
   "id": "d50ba486",
   "metadata": {},
   "outputs": [
    {
     "data": {
      "text/plain": [
       "['ali', 'sohail', 'nasir ', 'ather', 'qamar', 'mazhar']"
      ]
     },
     "execution_count": 7,
     "metadata": {},
     "output_type": "execute_result"
    }
   ],
   "source": [
    "guests"
   ]
  },
  {
   "cell_type": "code",
   "execution_count": 8,
   "id": "c34a1b4a",
   "metadata": {},
   "outputs": [
    {
     "name": "stdout",
     "output_type": "stream",
     "text": [
      "Enter the nameabbas\n",
      "Enter the nameq\n"
     ]
    }
   ],
   "source": [
    "for a in range(5):\n",
    "    guest = input(\"Enter the name\")\n",
    "    if guest ==\"q\":\n",
    "        break\n",
    "    else:\n",
    "        guests.append(guest)"
   ]
  },
  {
   "cell_type": "code",
   "execution_count": 9,
   "id": "1c6a9224",
   "metadata": {},
   "outputs": [
    {
     "data": {
      "text/plain": [
       "['ali', 'sohail', 'nasir ', 'ather', 'qamar', 'mazhar', 'abbas']"
      ]
     },
     "execution_count": 9,
     "metadata": {},
     "output_type": "execute_result"
    }
   ],
   "source": [
    "guests"
   ]
  },
  {
   "cell_type": "code",
   "execution_count": 10,
   "id": "159d2b6a",
   "metadata": {},
   "outputs": [
    {
     "name": "stdout",
     "output_type": "stream",
     "text": [
      "0 Hello\n",
      "1 Hello\n",
      "2 Hello\n",
      "3 Hello\n",
      "4 Hello\n",
      "5 Hello\n",
      "6 Hello\n",
      "7 Hello\n",
      "8 Hello\n",
      "9 Hello\n"
     ]
    }
   ],
   "source": [
    "a = 0\n",
    "while a<10:\n",
    "    print(a,\"Hello\")\n",
    "    a +=1"
   ]
  },
  {
   "cell_type": "code",
   "execution_count": 11,
   "id": "ff7183c8",
   "metadata": {},
   "outputs": [
    {
     "name": "stdout",
     "output_type": "stream",
     "text": [
      "Enter guest nameali\n",
      "Enter guest namenasir\n",
      "Enter guest nameq\n"
     ]
    }
   ],
   "source": [
    "count = 0\n",
    "while count <10:\n",
    "    guest = input(\"Enter guest name\")\n",
    "    if guest == \"q\":\n",
    "        break\n",
    "    else:\n",
    "        guests.append(guest)\n",
    "    count +=1    "
   ]
  },
  {
   "cell_type": "code",
   "execution_count": 12,
   "id": "8f8414d6",
   "metadata": {},
   "outputs": [
    {
     "data": {
      "text/plain": [
       "['ali',\n",
       " 'sohail',\n",
       " 'nasir ',\n",
       " 'ather',\n",
       " 'qamar',\n",
       " 'mazhar',\n",
       " 'abbas',\n",
       " 'ali',\n",
       " 'nasir']"
      ]
     },
     "execution_count": 12,
     "metadata": {},
     "output_type": "execute_result"
    }
   ],
   "source": [
    "guests"
   ]
  },
  {
   "cell_type": "code",
   "execution_count": 13,
   "id": "3859f7b8",
   "metadata": {},
   "outputs": [
    {
     "name": "stdout",
     "output_type": "stream",
     "text": [
      "Enter guest namefahad\n",
      "Enter guest nameq\n"
     ]
    }
   ],
   "source": [
    "while True:\n",
    "    guest = input(\"Enter guest name\")\n",
    "    if guest == \"q\":\n",
    "        break\n",
    "    else:\n",
    "        guests.append(guest)"
   ]
  },
  {
   "cell_type": "code",
   "execution_count": 14,
   "id": "7d85af39",
   "metadata": {},
   "outputs": [
    {
     "data": {
      "text/plain": [
       "['ali',\n",
       " 'sohail',\n",
       " 'nasir ',\n",
       " 'ather',\n",
       " 'qamar',\n",
       " 'mazhar',\n",
       " 'abbas',\n",
       " 'ali',\n",
       " 'nasir',\n",
       " 'fahad']"
      ]
     },
     "execution_count": 14,
     "metadata": {},
     "output_type": "execute_result"
    }
   ],
   "source": [
    "guests"
   ]
  },
  {
   "cell_type": "code",
   "execution_count": 15,
   "id": "535d46b0",
   "metadata": {},
   "outputs": [
    {
     "ename": "NameError",
     "evalue": "name 'light' is not defined",
     "output_type": "error",
     "traceback": [
      "\u001b[1;31m---------------------------------------------------------------------------\u001b[0m",
      "\u001b[1;31mNameError\u001b[0m                                 Traceback (most recent call last)",
      "Cell \u001b[1;32mIn[15], line 2\u001b[0m\n\u001b[0;32m      1\u001b[0m Light \u001b[38;5;241m=\u001b[39m \u001b[38;5;28;01mTrue\u001b[39;00m\n\u001b[1;32m----> 2\u001b[0m \u001b[38;5;28;01mwhile\u001b[39;00m light:\n\u001b[0;32m      3\u001b[0m     guest \u001b[38;5;241m=\u001b[39m \u001b[38;5;28minput\u001b[39m(\u001b[38;5;124m\"\u001b[39m\u001b[38;5;124mEnter guest name\u001b[39m\u001b[38;5;124m\"\u001b[39m)\n\u001b[0;32m      4\u001b[0m     \u001b[38;5;28;01mif\u001b[39;00m guest \u001b[38;5;241m==\u001b[39m \u001b[38;5;124m\"\u001b[39m\u001b[38;5;124mq\u001b[39m\u001b[38;5;124m\"\u001b[39m:\n",
      "\u001b[1;31mNameError\u001b[0m: name 'light' is not defined"
     ]
    }
   ],
   "source": [
    "Light = True\n",
    "while light:\n",
    "    guest = input(\"Enter guest name\")\n",
    "    if guest == \"q\":\n",
    "        Light = False\n",
    "    else:\n",
    "        guests.append(guests)"
   ]
  },
  {
   "cell_type": "code",
   "execution_count": null,
   "id": "36058361",
   "metadata": {},
   "outputs": [],
   "source": []
  },
  {
   "cell_type": "code",
   "execution_count": null,
   "id": "fd2c9d28",
   "metadata": {},
   "outputs": [],
   "source": []
  }
 ],
 "metadata": {
  "kernelspec": {
   "display_name": "Python 3 (ipykernel)",
   "language": "python",
   "name": "python3"
  },
  "language_info": {
   "codemirror_mode": {
    "name": "ipython",
    "version": 3
   },
   "file_extension": ".py",
   "mimetype": "text/x-python",
   "name": "python",
   "nbconvert_exporter": "python",
   "pygments_lexer": "ipython3",
   "version": "3.11.5"
  }
 },
 "nbformat": 4,
 "nbformat_minor": 5
}
