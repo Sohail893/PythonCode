{
 "cells": [
  {
   "cell_type": "markdown",
   "id": "162ff930",
   "metadata": {},
   "source": [
    "# String"
   ]
  },
  {
   "cell_type": "code",
   "execution_count": 1,
   "id": "59ba58f5",
   "metadata": {},
   "outputs": [],
   "source": [
    "courses = 'Artificial Intelligence'"
   ]
  },
  {
   "cell_type": "code",
   "execution_count": 2,
   "id": "bc08b44b",
   "metadata": {},
   "outputs": [
    {
     "data": {
      "text/plain": [
       "str"
      ]
     },
     "execution_count": 2,
     "metadata": {},
     "output_type": "execute_result"
    }
   ],
   "source": [
    "type(courses)"
   ]
  },
  {
   "cell_type": "code",
   "execution_count": 3,
   "id": "577917f7",
   "metadata": {},
   "outputs": [
    {
     "data": {
      "text/plain": [
       "'Artificial intelligence'"
      ]
     },
     "execution_count": 3,
     "metadata": {},
     "output_type": "execute_result"
    }
   ],
   "source": [
    "courses.capitalize()"
   ]
  },
  {
   "cell_type": "code",
   "execution_count": 4,
   "id": "0674b254",
   "metadata": {},
   "outputs": [
    {
     "data": {
      "text/plain": [
       "'ARTIFICIAL INTELLIGENCE'"
      ]
     },
     "execution_count": 4,
     "metadata": {},
     "output_type": "execute_result"
    }
   ],
   "source": [
    "courses.upper()"
   ]
  },
  {
   "cell_type": "code",
   "execution_count": 5,
   "id": "ad056a58",
   "metadata": {},
   "outputs": [
    {
     "data": {
      "text/plain": [
       "'Artificial Intelligence'"
      ]
     },
     "execution_count": 5,
     "metadata": {},
     "output_type": "execute_result"
    }
   ],
   "source": [
    "courses.title()"
   ]
  },
  {
   "cell_type": "code",
   "execution_count": 7,
   "id": "daa1902e",
   "metadata": {},
   "outputs": [
    {
     "data": {
      "text/plain": [
       "'artificial intelligence'"
      ]
     },
     "execution_count": 7,
     "metadata": {},
     "output_type": "execute_result"
    }
   ],
   "source": [
    "courses.lower()"
   ]
  },
  {
   "cell_type": "code",
   "execution_count": 9,
   "id": "202a86c7",
   "metadata": {},
   "outputs": [
    {
     "data": {
      "text/plain": [
       "3"
      ]
     },
     "execution_count": 9,
     "metadata": {},
     "output_type": "execute_result"
    }
   ],
   "source": [
    "courses.count('e')"
   ]
  },
  {
   "cell_type": "code",
   "execution_count": 10,
   "id": "88c115a0",
   "metadata": {},
   "outputs": [],
   "source": [
    "text = \"My name is Sohail Abbas\""
   ]
  },
  {
   "cell_type": "code",
   "execution_count": 12,
   "id": "b91875f1",
   "metadata": {},
   "outputs": [
    {
     "data": {
      "text/plain": [
       "False"
      ]
     },
     "execution_count": 12,
     "metadata": {},
     "output_type": "execute_result"
    }
   ],
   "source": [
    "text.endswith('ali')"
   ]
  },
  {
   "cell_type": "code",
   "execution_count": 13,
   "id": "11b5fb84",
   "metadata": {},
   "outputs": [
    {
     "data": {
      "text/plain": [
       "True"
      ]
     },
     "execution_count": 13,
     "metadata": {},
     "output_type": "execute_result"
    }
   ],
   "source": [
    "text.endswith('s')"
   ]
  },
  {
   "cell_type": "code",
   "execution_count": 14,
   "id": "25c46eee",
   "metadata": {},
   "outputs": [
    {
     "data": {
      "text/plain": [
       "True"
      ]
     },
     "execution_count": 14,
     "metadata": {},
     "output_type": "execute_result"
    }
   ],
   "source": [
    "text.startswith(\"My\")"
   ]
  },
  {
   "cell_type": "code",
   "execution_count": 15,
   "id": "22b04f18",
   "metadata": {},
   "outputs": [],
   "source": [
    "marks = '100'"
   ]
  },
  {
   "cell_type": "code",
   "execution_count": 17,
   "id": "6b384076",
   "metadata": {},
   "outputs": [
    {
     "data": {
      "text/plain": [
       "True"
      ]
     },
     "execution_count": 17,
     "metadata": {},
     "output_type": "execute_result"
    }
   ],
   "source": [
    "marks.isalnum()"
   ]
  },
  {
   "cell_type": "code",
   "execution_count": 18,
   "id": "dc51dbcd",
   "metadata": {},
   "outputs": [
    {
     "data": {
      "text/plain": [
       "False"
      ]
     },
     "execution_count": 18,
     "metadata": {},
     "output_type": "execute_result"
    }
   ],
   "source": [
    "marks.isalpha()"
   ]
  },
  {
   "cell_type": "code",
   "execution_count": 19,
   "id": "8fb4bbe2",
   "metadata": {},
   "outputs": [
    {
     "data": {
      "text/plain": [
       "False"
      ]
     },
     "execution_count": 19,
     "metadata": {},
     "output_type": "execute_result"
    }
   ],
   "source": [
    "marks.islower()"
   ]
  },
  {
   "cell_type": "markdown",
   "id": "28534abd",
   "metadata": {},
   "source": [
    "# String Concatenation"
   ]
  },
  {
   "cell_type": "code",
   "execution_count": 20,
   "id": "b55d0e8c",
   "metadata": {},
   "outputs": [],
   "source": [
    "first_name = \"Ali\"\n",
    "last_name = \"Hassan\""
   ]
  },
  {
   "cell_type": "code",
   "execution_count": 21,
   "id": "e59d6392",
   "metadata": {},
   "outputs": [
    {
     "data": {
      "text/plain": [
       "'AliHassan'"
      ]
     },
     "execution_count": 21,
     "metadata": {},
     "output_type": "execute_result"
    }
   ],
   "source": [
    "first_name + last_name"
   ]
  },
  {
   "cell_type": "code",
   "execution_count": 27,
   "id": "a7bf56dd",
   "metadata": {},
   "outputs": [],
   "source": [
    "age = 30"
   ]
  },
  {
   "cell_type": "code",
   "execution_count": 28,
   "id": "4fcce7c9",
   "metadata": {},
   "outputs": [
    {
     "ename": "TypeError",
     "evalue": "can only concatenate str (not \"int\") to str",
     "output_type": "error",
     "traceback": [
      "\u001b[1;31m---------------------------------------------------------------------------\u001b[0m",
      "\u001b[1;31mTypeError\u001b[0m                                 Traceback (most recent call last)",
      "Cell \u001b[1;32mIn[28], line 1\u001b[0m\n\u001b[1;32m----> 1\u001b[0m first_name \u001b[38;5;241m+\u001b[39m age\n",
      "\u001b[1;31mTypeError\u001b[0m: can only concatenate str (not \"int\") to str"
     ]
    }
   ],
   "source": [
    "first_name + age"
   ]
  },
  {
   "cell_type": "code",
   "execution_count": 29,
   "id": "3e500322",
   "metadata": {},
   "outputs": [
    {
     "data": {
      "text/plain": [
       "'AliHassan30'"
      ]
     },
     "execution_count": 29,
     "metadata": {},
     "output_type": "execute_result"
    }
   ],
   "source": [
    "first_name + last_name +str(age)"
   ]
  },
  {
   "cell_type": "code",
   "execution_count": 32,
   "id": "42970a36",
   "metadata": {},
   "outputs": [
    {
     "name": "stdout",
     "output_type": "stream",
     "text": [
      "Enter the nameali\n",
      "Enter the father namehassan\n",
      "Enter the age12\n",
      "Mr alis/o hassanyou are12.0 old.\n"
     ]
    }
   ],
   "source": [
    "name = input(\"Enter the name\")\n",
    "fname = input(\"Enter the father name\")\n",
    "age = float(input(\"Enter the age\"))\n",
    "print(\"Mr \" + name + \"s/o \" +fname + \"you are\" + str(age) + \" old.\")"
   ]
  },
  {
   "cell_type": "markdown",
   "id": "73a16f84",
   "metadata": {},
   "source": [
    "# String Formating"
   ]
  },
  {
   "cell_type": "code",
   "execution_count": 33,
   "id": "ad236221",
   "metadata": {},
   "outputs": [
    {
     "name": "stdout",
     "output_type": "stream",
     "text": [
      "Mr ali s/o hassan you are 12.0 old\n"
     ]
    }
   ],
   "source": [
    "print('Mr {} s/o {} you are {} old'.format(name,fname,age))"
   ]
  },
  {
   "cell_type": "code",
   "execution_count": 35,
   "id": "2c2c36c5",
   "metadata": {},
   "outputs": [
    {
     "name": "stdout",
     "output_type": "stream",
     "text": [
      "Mr ali s/o hassan you are 12.0 old\n"
     ]
    }
   ],
   "source": [
    "print(f\"Mr {name} s/o {fname} you are {age} old\")"
   ]
  },
  {
   "cell_type": "code",
   "execution_count": 38,
   "id": "313fa389",
   "metadata": {},
   "outputs": [],
   "source": [
    "text = \"\"\"my name\n",
    "         is sohail\n",
    "         abbas\"\"\""
   ]
  },
  {
   "cell_type": "code",
   "execution_count": 39,
   "id": "caf3e9ae",
   "metadata": {},
   "outputs": [
    {
     "data": {
      "text/plain": [
       "'my name\\n         is sohail\\n         abbas'"
      ]
     },
     "execution_count": 39,
     "metadata": {},
     "output_type": "execute_result"
    }
   ],
   "source": [
    "text"
   ]
  },
  {
   "cell_type": "code",
   "execution_count": 40,
   "id": "15229e1a",
   "metadata": {},
   "outputs": [
    {
     "data": {
      "text/plain": [
       "41"
      ]
     },
     "execution_count": 40,
     "metadata": {},
     "output_type": "execute_result"
    }
   ],
   "source": [
    "len(text)"
   ]
  },
  {
   "cell_type": "code",
   "execution_count": 41,
   "id": "af5ddf57",
   "metadata": {},
   "outputs": [
    {
     "data": {
      "text/plain": [
       "'m'"
      ]
     },
     "execution_count": 41,
     "metadata": {},
     "output_type": "execute_result"
    }
   ],
   "source": [
    "text[0]"
   ]
  },
  {
   "cell_type": "markdown",
   "id": "a1038642",
   "metadata": {},
   "source": [
    "# Slicing"
   ]
  },
  {
   "cell_type": "code",
   "execution_count": 42,
   "id": "1f9b81a7",
   "metadata": {},
   "outputs": [],
   "source": [
    "text = \"Ali is my younger brother\""
   ]
  },
  {
   "cell_type": "code",
   "execution_count": 43,
   "id": "2b5c74e9",
   "metadata": {},
   "outputs": [
    {
     "data": {
      "text/plain": [
       "'Ali is my y'"
      ]
     },
     "execution_count": 43,
     "metadata": {},
     "output_type": "execute_result"
    }
   ],
   "source": [
    "text[0:11]"
   ]
  },
  {
   "cell_type": "code",
   "execution_count": 44,
   "id": "81cc034c",
   "metadata": {},
   "outputs": [],
   "source": [
    "country = \"Pakistan\""
   ]
  },
  {
   "cell_type": "code",
   "execution_count": 45,
   "id": "5ff3e247",
   "metadata": {},
   "outputs": [
    {
     "data": {
      "text/plain": [
       "'Pa'"
      ]
     },
     "execution_count": 45,
     "metadata": {},
     "output_type": "execute_result"
    }
   ],
   "source": [
    "country[0:2:1]"
   ]
  },
  {
   "cell_type": "code",
   "execution_count": null,
   "id": "769ca430",
   "metadata": {},
   "outputs": [],
   "source": []
  }
 ],
 "metadata": {
  "kernelspec": {
   "display_name": "Python 3 (ipykernel)",
   "language": "python",
   "name": "python3"
  },
  "language_info": {
   "codemirror_mode": {
    "name": "ipython",
    "version": 3
   },
   "file_extension": ".py",
   "mimetype": "text/x-python",
   "name": "python",
   "nbconvert_exporter": "python",
   "pygments_lexer": "ipython3",
   "version": "3.11.5"
  }
 },
 "nbformat": 4,
 "nbformat_minor": 5
}
