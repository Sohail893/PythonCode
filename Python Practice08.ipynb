{
 "cells": [
  {
   "cell_type": "markdown",
   "id": "ea4189d9",
   "metadata": {},
   "source": [
    "# Conditional Structure"
   ]
  },
  {
   "cell_type": "markdown",
   "id": "946a5b0a",
   "metadata": {},
   "source": [
    " Write a program that prompts the user to input a number and display if the number \n",
    "is even or odd.  "
   ]
  },
  {
   "cell_type": "code",
   "execution_count": null,
   "id": "68310f9b",
   "metadata": {},
   "outputs": [],
   "source": [
    "number = int(input(\"Enter the number\"))\n",
    "if number%2==0:\n",
    "    print(\"Number is Even\")\n",
    "else:\n",
    "    print(\"Number is Odd\")"
   ]
  },
  {
   "cell_type": "markdown",
   "id": "27141dc4",
   "metadata": {},
   "source": [
    " Write a Python program that takes an age as input and determines whether a person \n",
    "is eligible to vote. If the age is 18 or above, print \"You are eligible to vote.\" Otherwise, \n",
    "print \"You are not eligible to vote yet.\""
   ]
  },
  {
   "cell_type": "code",
   "execution_count": null,
   "id": "dcea7a21",
   "metadata": {},
   "outputs": [],
   "source": [
    "age = int(input(\"Enter the age\"))\n",
    "if age>18:\n",
    "    print(\"You are eligible to vote\")\n",
    "else:\n",
    "    print(\"Not eligible\")"
   ]
  },
  {
   "cell_type": "markdown",
   "id": "334d456d",
   "metadata": {},
   "source": [
    ". Write a program that prompts the user to input two integers and outputs the largest.  "
   ]
  },
  {
   "cell_type": "code",
   "execution_count": null,
   "id": "f97818f5",
   "metadata": {},
   "outputs": [],
   "source": [
    "num1 = int(input(\"Enter the first number\"))\n",
    "num2 = int(input(\"Enter the second number\"))\n",
    "if num1>num2:\n",
    "    print(f\"{num1} is greater\")\n",
    "else:\n",
    "    print(f\"{num2} is greater\")"
   ]
  },
  {
   "cell_type": "markdown",
   "id": "7665240c",
   "metadata": {},
   "source": [
    " Write a program that prompts the user to enter a number and determines whether it \n",
    "is positive, negative, or zero. The program should print \"Positive\" if the number is \n",
    "greater than 0, \"Negative\" if the number is less than 0, and \"Zero\" if the number is 0.  "
   ]
  },
  {
   "cell_type": "code",
   "execution_count": null,
   "id": "896c5bed",
   "metadata": {},
   "outputs": [],
   "source": [
    "number = int(input(\"Enter the number\"))\n",
    "if number>0:\n",
    "    print(\"Positive\")\n",
    "elif number<0:\n",
    "    print(\"Negative\")\n",
    "else:\n",
    "    print(\"Zero\")"
   ]
  },
  {
   "cell_type": "markdown",
   "id": "f35e57e7",
   "metadata": {},
   "source": [
    " Write a program that prompts the user to enter their age and prints the \n",
    "corresponding age group. The program should use the following age groups: \n",
    "0-12:   \n",
    "13-19:   \n",
    "20-59:   \n",
    "60 and above:  \n",
    "Child \n",
    "Teenager \n",
    "Adult \n",
    "Senior Citizen  "
   ]
  },
  {
   "cell_type": "code",
   "execution_count": null,
   "id": "ceb146b0",
   "metadata": {},
   "outputs": [],
   "source": [
    "age = int(input(\"Enter the age\"))\n",
    "if age >=0 and age<=12:\n",
    "    print(\"Child\")\n",
    "elif age>=13 and age<=19:\n",
    "    print(\"Teenager\")\n",
    "elif age>=20 and age<=59:\n",
    "    print(\"Adult\")\n",
    "else:\n",
    "    print(\"Senior Citizen\")"
   ]
  },
  {
   "cell_type": "markdown",
   "id": "26b41ca9",
   "metadata": {},
   "source": [
    "Write a program that prompts the user to input a number from 1 to 7. The program \n",
    "should display the corresponding day for the given number. For example, if the user \n",
    "types 1, the output should be Sunday. If the user types 7, the output should be \n",
    "Saturday. If the number is not between 1 to 7 user should get error message as shown \n",
    "in sample output. "
   ]
  },
  {
   "cell_type": "code",
   "execution_count": null,
   "id": "9ced75ef",
   "metadata": {},
   "outputs": [],
   "source": [
    "number = int(input(\"Enter the number\"))\n",
    "if number ==1:\n",
    "    print(\"Sunday\")\n",
    "elif number ==2:\n",
    "    print(\"Monday\")\n",
    "elif number ==3:\n",
    "    print(\"Tuesday\")\n",
    "elif number ==4:\n",
    "    print(\"Wednesday\")\n",
    "elif number == 5:\n",
    "    print(\"Thursday\")\n",
    "elif number ==6:\n",
    "    print(\"Friday\")\n",
    "elif number ==7:\n",
    "    print(\"Saturday\")\n",
    "else:\n",
    "    print(\"Error\")"
   ]
  },
  {
   "cell_type": "markdown",
   "id": "e411c2ad",
   "metadata": {},
   "source": [
    "Write a program that prompts the user to enter their weight (in kilograms) and height \n",
    "(in meters). The program should calculate the Body Mass Index (BMI) using the formula: \n",
    "BMI = weight / (height * height). The program should then classify the BMI into one of \n",
    "the following categories: \n",
    "less than 18.5 - Underweight   \n",
    "BMI between 18.5 and 24.9 - Normal weight   \n",
    "BMI between 25 and 29.9 - Overweight   \n",
    "BMI 30 or greater - Obesity  "
   ]
  },
  {
   "cell_type": "code",
   "execution_count": null,
   "id": "f93d744c",
   "metadata": {},
   "outputs": [],
   "source": [
    "Weight = int(input(\"Enter the weight\"))\n",
    "Height = int(input(\"Enter the height\"))\n",
    "BMI = Weight/(Height*Height)\n",
    "if BMI >=18.5 and BMI <=24.9:\n",
    "    print(\"Normal weight\")\n",
    "elif BMI >=25 and BMI <=29.9:\n",
    "    print(\"Overweight\")\n",
    "else:\n",
    "    print(\"Obesity\")"
   ]
  },
  {
   "cell_type": "markdown",
   "id": "2ccb9794",
   "metadata": {},
   "source": [
    "The marks obtained by a student in 3 different subjects are input by the user. Your \n",
    "program should calculate the average of subjects and display the grade. The student \n",
    "gets a grade as per the following rules: \n",
    "Average Grade \n",
    "90-100 A \n",
    "80-89 \n",
    "B \n",
    "70-79 \n",
    "C \n",
    "60-69 D \n",
    "0-59 F "
   ]
  },
  {
   "cell_type": "code",
   "execution_count": null,
   "id": "217f9548",
   "metadata": {},
   "outputs": [],
   "source": [
    "Math = int(input(\"Enter the math subject\"))\n",
    "Science = int(input(\"Enter the Science subject\"))\n",
    "Physics = int(input(\"Enter the Science subject\"))\n",
    "Average = Math+ Science+ Physics/3\n",
    "\n",
    "if Average >=90 and Average<=100:\n",
    "    grade = \"A\"\n",
    "elif Average >=80 and Average <=89:\n",
    "    grade = \"B\"\n",
    "elif Average >=70 and Average <=79:\n",
    "    grade = \"C\"\n",
    "elif Average >=60 and Average <=69:\n",
    "    grade = \"D\"\n",
    "elif Average >=0 and Average <=59:\n",
    "    grade = \"F\"\n",
    "print(f\"Average is {Average:.2f} this and grade is {grade}\")    "
   ]
  },
  {
   "cell_type": "markdown",
   "id": "e640a536",
   "metadata": {},
   "source": [
    " The roots of the quadratic equation ax2 + bx + c = 0, a ≠ 0 are given by the following \n",
    "formula: \n",
    " \n",
    "In this formula, the term b2 - 4ac is called the discriminant. If b2 - 4ac = 0, then the \n",
    "equation has two equal roots. \n",
    "If b2 - 4ac > 0, the equation has two real roots. If b2 - 4ac < 0, the equation has two \n",
    "complex roots. \n",
    "Write a program that prompts the user to input the value of a (the coefficient of x2), b \n",
    "(the coefficient of x), and c (the constant term) and outputs the roots of the quadratic \n",
    "equation.  "
   ]
  },
  {
   "cell_type": "code",
   "execution_count": 5,
   "id": "61bdba32",
   "metadata": {},
   "outputs": [
    {
     "name": "stdout",
     "output_type": "stream",
     "text": [
      "a12\n",
      "b13\n",
      "c15\n"
     ]
    }
   ],
   "source": [
    "a = int(input(\"a\"))\n",
    "b = int(input(\"b\"))\n",
    "c = int(input(\"c\"))\n",
    "roots = ((-b+(b**2-4*a*c)**(.5)/2*a)),((-b-(b**2-4*a*c)**(.5)/2*a))\n",
    "         "
   ]
  },
  {
   "cell_type": "code",
   "execution_count": 6,
   "id": "5b826265",
   "metadata": {},
   "outputs": [
    {
     "data": {
      "text/plain": [
       "((-12.999999999999991+140.84033513166602j),\n",
       " (-13.000000000000009-140.84033513166602j))"
      ]
     },
     "execution_count": 6,
     "metadata": {},
     "output_type": "execute_result"
    }
   ],
   "source": [
    "roots\n"
   ]
  },
  {
   "cell_type": "markdown",
   "id": "e4836c06",
   "metadata": {},
   "source": [
    "0. Write a program that prompts the user to enter three numbers and sorts them in \n",
    "ascending order. The program should print the sorted numbers. "
   ]
  },
  {
   "cell_type": "code",
   "execution_count": 10,
   "id": "b0ff2d58",
   "metadata": {},
   "outputs": [
    {
     "name": "stdout",
     "output_type": "stream",
     "text": [
      "Enter the first number10\n",
      "Enter the second number12\n",
      "Enter the third number9\n",
      "[9, 10, 12]\n"
     ]
    }
   ],
   "source": [
    "first = int(input(\"Enter the first number\"))\n",
    "second = int(input(\"Enter the second number\"))\n",
    "third = int(input(\"Enter the third number\"))\n",
    "list = [first,second,third]\n",
    "list.sort()\n",
    "print(list)"
   ]
  },
  {
   "cell_type": "markdown",
   "id": "82dc9db3",
   "metadata": {},
   "source": [
    " Write a program that prompts the user to input three integers and outputs the \n",
    "largest. "
   ]
  },
  {
   "cell_type": "code",
   "execution_count": 11,
   "id": "cf1f709a",
   "metadata": {},
   "outputs": [
    {
     "name": "stdout",
     "output_type": "stream",
     "text": [
      "Enter the first number15\n",
      "Enter the second number16\n",
      "Enter the third number17\n",
      "third is greater\n"
     ]
    }
   ],
   "source": [
    "first = int(input(\"Enter the first number\"))\n",
    "second = int(input(\"Enter the second number\"))\n",
    "third = int(input(\"Enter the third number\"))\n",
    "if first>second and first>third:\n",
    "    print(\"first is greater\")\n",
    "elif second>first and second>third:\n",
    "    print(\"second is greater\")\n",
    "else:\n",
    "    print(\"third is greater\")\n"
   ]
  },
  {
   "cell_type": "markdown",
   "id": "386b8cd2",
   "metadata": {},
   "source": [
    " Write a program that prompts the user to input a character and determine the \n",
    "character is vowel or consonant.  "
   ]
  },
  {
   "cell_type": "code",
   "execution_count": 15,
   "id": "0be8f050",
   "metadata": {},
   "outputs": [
    {
     "name": "stdout",
     "output_type": "stream",
     "text": [
      "Enter the txta\n",
      "vowel\n"
     ]
    }
   ],
   "source": [
    "char = input(\"Enter the txt\")\n",
    "\n",
    "if char in ['a','e','i','o','u']:\n",
    "    print(\"vowel\")\n",
    "else:\n",
    "    print(\"consonant\")\n",
    "        "
   ]
  },
  {
   "cell_type": "markdown",
   "id": "7e0aaa59",
   "metadata": {},
   "source": [
    " Write a program that prompts the user to input a year and determine whether the \n",
    "year is a leap year or not. \n",
    "Leap Years are any year that can be evenly divided by 4. A year that is evenly divisible by \n",
    "100 is a leap year only if it is also evenly divisible by 400. Example"
   ]
  },
  {
   "cell_type": "code",
   "execution_count": 17,
   "id": "3172c4b7",
   "metadata": {},
   "outputs": [
    {
     "name": "stdout",
     "output_type": "stream",
     "text": [
      "Enter the year100\n",
      "leap year\n"
     ]
    }
   ],
   "source": [
    "year = int(input(\"Enter the year\"))\n",
    "if year%4==0:\n",
    "    print(\"leap year\")\n",
    "else:\n",
    "    print(\"Not leap year\")"
   ]
  },
  {
   "cell_type": "markdown",
   "id": "ac2c42fa",
   "metadata": {},
   "source": [
    "Write a program that prompts the user to input number of calls and calculate the \n",
    "monthly telephone bills as per the following rule: \n",
    "Minimum Rs. 200 for up to 100 calls. \n",
    "Plus Rs. 0.60 per call for next 50 calls. \n",
    "Plus Rs. 0.50 per call for next 50 calls. \n",
    "Plus Rs. 0.40 per call for any call beyond 200 calls."
   ]
  },
  {
   "cell_type": "code",
   "execution_count": 20,
   "id": "e5b85e32",
   "metadata": {},
   "outputs": [
    {
     "name": "stdout",
     "output_type": "stream",
     "text": [
      "Enter the number of calls90\n",
      "your total telephone bill is: Rs. 200\n"
     ]
    }
   ],
   "source": [
    "calls = int(input(\"Enter the number of calls\"))\n",
    "if calls <=100:\n",
    "    bill = 200\n",
    "elif calls <=150:\n",
    "    bill = 200 + (calls-100) * 0.60\n",
    "elif calls <=200:\n",
    "    bill = 200 + (50*0.60) + (calls-150) * 0.50\n",
    "else:\n",
    "    bill = 200 + (50*0.60) + (50*0.50) + (calls-200) * 0.40\n",
    "print(\"your total telephone bill is: Rs.\",bill)    "
   ]
  },
  {
   "cell_type": "code",
   "execution_count": null,
   "id": "2d7f5abb",
   "metadata": {},
   "outputs": [],
   "source": []
  }
 ],
 "metadata": {
  "kernelspec": {
   "display_name": "Python 3 (ipykernel)",
   "language": "python",
   "name": "python3"
  },
  "language_info": {
   "codemirror_mode": {
    "name": "ipython",
    "version": 3
   },
   "file_extension": ".py",
   "mimetype": "text/x-python",
   "name": "python",
   "nbconvert_exporter": "python",
   "pygments_lexer": "ipython3",
   "version": "3.11.5"
  }
 },
 "nbformat": 4,
 "nbformat_minor": 5
}
