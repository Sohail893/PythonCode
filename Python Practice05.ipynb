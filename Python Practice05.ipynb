{
 "cells": [
  {
   "cell_type": "markdown",
   "id": "0ef1951e",
   "metadata": {},
   "source": [
    "# Control Flow (Conditional Statements / If  Statement)"
   ]
  },
  {
   "cell_type": "code",
   "execution_count": 1,
   "id": "262c369e",
   "metadata": {},
   "outputs": [
    {
     "name": "stdout",
     "output_type": "stream",
     "text": [
      "Enter your nameyousuf\n",
      "Welcome Mr.yousufto my class\n"
     ]
    }
   ],
   "source": [
    "name = input(\"Enter your name\").lower()\n",
    "if name == \"yousuf\":\n",
    "    print(\"Welcome Mr.\" + name+ \"to my class\")\n",
    "else:\n",
    "    print(\"Please sit , ap purnay student haa\")"
   ]
  },
  {
   "cell_type": "code",
   "execution_count": 2,
   "id": "c4828472",
   "metadata": {},
   "outputs": [
    {
     "name": "stdout",
     "output_type": "stream",
     "text": [
      "bhai tamamtor kesy diye40\n",
      "bhai 10kg dedo\n"
     ]
    }
   ],
   "source": [
    "price = int(input(\"bhai tamamtor kesy diye\"))\n",
    "if price <=50:\n",
    "    print(\"bhai 10kg dedo\")\n",
    "else:\n",
    "    print(\"bhai 1kg dedo\")"
   ]
  },
  {
   "cell_type": "code",
   "execution_count": null,
   "id": "a6bbddbc",
   "metadata": {},
   "outputs": [],
   "source": [
    "price = int(input(\"Kia hisab hen tamator?\"))\n",
    " if price <=50:\n",
    "    quality = input(\"Kese hen?\")\n",
    "    if quality  == 'good':\n",
    "        print(\"10 Kg dedo\")\n",
    "    else:\n",
    "        print(\" quality is so so 1 kg dedo\")\n",
    " else:\n",
    "    print(\"Price high hen 1 kg dedo\")"
   ]
  },
  {
   "cell_type": "code",
   "execution_count": 5,
   "id": "ac218496",
   "metadata": {},
   "outputs": [
    {
     "name": "stdout",
     "output_type": "stream",
     "text": [
      "kia hisab hen tamator80\n",
      "Price high hen 1kg dedo\n"
     ]
    }
   ],
   "source": [
    "price = int(input(\"kia hisab hen tamator\"))\n",
    "if price <=50:\n",
    "    quality = input(\"kese hen?\")\n",
    "    if quality == 'goood':\n",
    "        print(\"10kg dedo bas\")\n",
    "    else:\n",
    "        print(\"bas 5kg dedo\")\n",
    "else:\n",
    "    print(\"Price high hen 1kg dedo\")"
   ]
  },
  {
   "cell_type": "code",
   "execution_count": 6,
   "id": "353b5f75",
   "metadata": {},
   "outputs": [
    {
     "name": "stdout",
     "output_type": "stream",
     "text": [
      "Have you paid fee?paid\n",
      "Status of attendance?full\n",
      "Please come inside to give exam\n"
     ]
    }
   ],
   "source": [
    "fee  = input('Have you paid fee?')\n",
    "if fee == 'paid':\n",
    "    attendance = input('Status of attendance?')\n",
    "    if attendance == 'full':\n",
    "        print('Please come inside to give exam')\n",
    "    else:\n",
    "        print(\"Short of attendance, you can not sit in exam\")\n",
    "else:\n",
    "    print(\"Fee unpaid, you can not sit in exam\")"
   ]
  },
  {
   "cell_type": "code",
   "execution_count": 7,
   "id": "d7ad8ced",
   "metadata": {},
   "outputs": [
    {
     "name": "stdout",
     "output_type": "stream",
     "text": [
      "Do you have valid original cnic?yes\n",
      "Your name in list?yes\n",
      "Welcome please come in to cast your vote!!\n"
     ]
    }
   ],
   "source": [
    "cnic = input(\"Do you have valid original cnic?\")\n",
    "if cnic == 'yes':\n",
    "    name_in_list = input(\"Your name in list?\")\n",
    "    if name_in_list=='yes':\n",
    "        print(\"Welcome please come in to cast your vote!!\")\n",
    "    else:\n",
    "        print('Apka naam list me nahi hy')\n",
    "else:\n",
    "    print('CNIC nahi hy, leakr aao')"
   ]
  },
  {
   "cell_type": "markdown",
   "id": "cbafe951",
   "metadata": {},
   "source": [
    "# Multiple if"
   ]
  },
  {
   "cell_type": "code",
   "execution_count": 9,
   "id": "d06e7348",
   "metadata": {},
   "outputs": [
    {
     "name": "stdout",
     "output_type": "stream",
     "text": [
      "Enter the total shoping amount10000\n",
      "Your total bill is 10000 and your discount is 200.0. Final bill is 9800.0\n"
     ]
    }
   ],
   "source": [
    "amt  = int(input(\"Enter the total shoping amount\"))\n",
    "if amt >=50000:\n",
    "    discount = amt*.10\n",
    "elif amt >=40000:\n",
    "    discount = amt*.08\n",
    "elif amt >=30000:\n",
    "    discount = amt*.06\n",
    "elif amt >=20000:\n",
    "    discount = amt*.04\n",
    "elif amt >=10000:\n",
    "    discount = amt*.02\n",
    "else:\n",
    "    discount = amt*0\n",
    "print(f\"Your total bill is {amt} and your discount is {discount}. Final bill is {amt-discount}\")"
   ]
  },
  {
   "cell_type": "code",
   "execution_count": 12,
   "id": "684064e8",
   "metadata": {},
   "outputs": [
    {
     "name": "stdout",
     "output_type": "stream",
     "text": [
      "Enter the total shoping amount20000\n",
      "Your total bill is 20000 and your discount is 800.0. Final bill is 19200.0\n"
     ]
    }
   ],
   "source": [
    "amt = int(input(\"Enter the total shoping amount\"))\n",
    "if amt >=50000:\n",
    "    discount = amt*.10\n",
    "elif amt >=40000:\n",
    "    discount = amt*.08\n",
    "elif amt >=30000:\n",
    "    discount = amt*.06\n",
    "elif amt >=20000:\n",
    "    discount = amt*.04\n",
    "elif amt >=10000:\n",
    "    discount =  amt*.02\n",
    "else:\n",
    "    discount = amt*0\n",
    "print(f\"Your total bill is {amt} and your discount is {discount}. Final bill is {amt-discount}\")    "
   ]
  },
  {
   "cell_type": "code",
   "execution_count": 17,
   "id": "ff1217d0",
   "metadata": {},
   "outputs": [
    {
     "name": "stdout",
     "output_type": "stream",
     "text": [
      "Enter html marks80\n",
      "Enter css marks90\n",
      "Enter flutter marks80\n",
      "Enter python marks90\n",
      "Enter the java marks90\n",
      "Your percentage is 86.0 and your grade is A\n"
     ]
    }
   ],
   "source": [
    "html = int(input(\"Enter html marks\"))\n",
    "css = int(input(\"Enter css marks\"))\n",
    "flutter = int(input(\"Enter flutter marks\"))\n",
    "python = int(input(\"Enter python marks\"))\n",
    "java = int(input(\"Enter the java marks\"))\n",
    "total  = python+java+html+css+flutter\n",
    "percentage  = total/500*100\n",
    "if percentage>=90:\n",
    "    grade = \"A*\"\n",
    "elif percentage>=80:\n",
    "    grade = \"A\"\n",
    "elif percentage>=70:\n",
    "    grade = \"B\"\n",
    "elif percentage>=60:\n",
    "    grade = \"C\"\n",
    "    \n",
    "elif percentage>=50:\n",
    "    grade = \"D\"\n",
    "else:\n",
    "    grade  =\"Fail\"\n",
    "    \n",
    "print(f\"Your percentage is {percentage} and your grade is {grade}\")"
   ]
  },
  {
   "cell_type": "code",
   "execution_count": null,
   "id": "4d84a481",
   "metadata": {},
   "outputs": [],
   "source": []
  }
 ],
 "metadata": {
  "kernelspec": {
   "display_name": "Python 3 (ipykernel)",
   "language": "python",
   "name": "python3"
  },
  "language_info": {
   "codemirror_mode": {
    "name": "ipython",
    "version": 3
   },
   "file_extension": ".py",
   "mimetype": "text/x-python",
   "name": "python",
   "nbconvert_exporter": "python",
   "pygments_lexer": "ipython3",
   "version": "3.11.5"
  }
 },
 "nbformat": 4,
 "nbformat_minor": 5
}
