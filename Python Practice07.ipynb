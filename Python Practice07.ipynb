{
 "cells": [
  {
   "cell_type": "markdown",
   "id": "7e8dbd83",
   "metadata": {},
   "source": [
    "# String Assignments"
   ]
  },
  {
   "cell_type": "markdown",
   "id": "64faeaa7",
   "metadata": {},
   "source": [
    "Write a python that accepts a string for user = Your program shoud count and display number of vowels in that string"
   ]
  },
  {
   "cell_type": "code",
   "execution_count": null,
   "id": "5d1085f4",
   "metadata": {},
   "outputs": [],
   "source": [
    "txt = input(\"Enter the txt\")\n",
    "count = 0\n",
    "for char in txt:\n",
    "    vowels = ['a','e','i','o','u']\n",
    "    if char in vowels:\n",
    "        count +=1\n",
    "print(count)        "
   ]
  },
  {
   "cell_type": "markdown",
   "id": "885f07cc",
   "metadata": {},
   "source": [
    "Write a program that reads a string from keyboard and display:\n",
    "- The number of uppercase letters in the string\n",
    "- The number of lowercase letters in the string\n",
    "- The number of digits in the string\n",
    "- The number of whitespace characters in the string"
   ]
  },
  {
   "cell_type": "code",
   "execution_count": null,
   "id": "8168fa39",
   "metadata": {},
   "outputs": [],
   "source": [
    "string = input(\"Enter the string\")\n",
    "Upper_case = 0\n",
    "Lower_case = 0\n",
    "digit = 0\n",
    "other =0\n",
    "for char in string:\n",
    "    if char.isupper():\n",
    "         Upper_case+=1\n",
    "    elif char.islower():\n",
    "        Lower_case+=1\n",
    "    elif char.isdigit():\n",
    "        digit+=1\n",
    "    else:\n",
    "        other+=1\n",
    "print(f\"\"\"\n",
    "    Upper_case: {Upper_case}\n",
    "    Lower_case: {Lower_case}\n",
    "    Digit: {digit}\n",
    "    other: {other} \n",
    "\"\"\")\n",
    "    "
   ]
  },
  {
   "cell_type": "markdown",
   "id": "eb52de2a",
   "metadata": {},
   "source": [
    "Write a python program that accepts a string from user. Your program should create and display a new string where the \n",
    "first and last characters have been exchanged"
   ]
  },
  {
   "cell_type": "code",
   "execution_count": null,
   "id": "1fb5b103",
   "metadata": {},
   "outputs": [],
   "source": [
    "string = input(\"Enter the string\")\n",
    "\n",
    "new= string[::-1]\n",
    "print(new)"
   ]
  },
  {
   "cell_type": "code",
   "execution_count": null,
   "id": "3fb79ec6",
   "metadata": {},
   "outputs": [],
   "source": [
    "string = input(\"Enter here\")\n",
    "new_string = ''\n",
    "new_string += string[-1] + string[1:-1] + string[0]\n",
    "print(new_string)"
   ]
  },
  {
   "cell_type": "markdown",
   "id": "ae1f3da9",
   "metadata": {},
   "source": [
    "Write a python program that accepts a string from user. Your program shoud create a new string in reverse of first string and dispaly it"
   ]
  },
  {
   "cell_type": "code",
   "execution_count": null,
   "id": "f568232a",
   "metadata": {},
   "outputs": [],
   "source": [
    "string = input(\"Enter the string\")\n",
    "new_string = string[::-1]\n",
    "print(new_string)"
   ]
  },
  {
   "cell_type": "markdown",
   "id": "f32190e8",
   "metadata": {},
   "source": [
    "Write a python program that accepts a string from user. Your program should create a new string by shifting one position to left"
   ]
  },
  {
   "cell_type": "code",
   "execution_count": null,
   "id": "e28acb94",
   "metadata": {},
   "outputs": [],
   "source": [
    "string = input(\"Enter the string\")\n",
    "new_string = \"\"\n",
    "new_string +=string[1] + string[2:] + string[0]\n",
    "print(new_string)"
   ]
  },
  {
   "cell_type": "markdown",
   "id": "a5c41907",
   "metadata": {},
   "source": [
    " Write a program that asks the user to input his name and print its initials. Assuming that the user \n",
    "always types first name, middle name and last name and does not include any unnecessary spaces. \n",
    "For example, if the user enters Ajay Kumar Garg the program should display A. K. G. \n",
    "Note:Don't use split() method "
   ]
  },
  {
   "cell_type": "code",
   "execution_count": null,
   "id": "13bfbb3b",
   "metadata": {},
   "outputs": [],
   "source": [
    "name = input(\"Enter the name\")\n",
    "new = \"\"\n",
    "for char in name:\n",
    "    if char.isupper():\n",
    "        new+=char+\".\"\n",
    "print(new)        "
   ]
  },
  {
   "cell_type": "markdown",
   "id": "8be85e90",
   "metadata": {},
   "source": [
    " A palindrome is a string that reads the same backward as forward. For example, the words dad, \n",
    "madam and radar are all palindromes. Write a programs that determines whether the string is a \n",
    "palindrome. \n",
    "Note: do not use reverse() method   "
   ]
  },
  {
   "cell_type": "code",
   "execution_count": 8,
   "id": "729e2aab",
   "metadata": {},
   "outputs": [
    {
     "name": "stdout",
     "output_type": "stream",
     "text": [
      "Enter the stringali\n",
      "Not\n"
     ]
    }
   ],
   "source": [
    "str = input(\"Enter the string\")\n",
    "if str == str[::-1]:\n",
    "    \n",
    "    print(\"Palindrome\")\n",
    "else:\n",
    "    print(\"Not\")"
   ]
  },
  {
   "cell_type": "markdown",
   "id": "590d1ce4",
   "metadata": {},
   "source": [
    ". Write a program that display following output: \n",
    "SHIFT \n",
    "HIFTS \n",
    "IFTSH \n",
    "FTSHI \n",
    "TSHIF \n",
    "SHIFT  "
   ]
  },
  {
   "cell_type": "code",
   "execution_count": 16,
   "id": "cc156bc2",
   "metadata": {},
   "outputs": [
    {
     "name": "stdout",
     "output_type": "stream",
     "text": [
      "SHIFT\n",
      "HIFTS\n",
      "IFTSH\n",
      "FTSHI\n",
      "TSHIF\n",
      "SHIFT\n"
     ]
    }
   ],
   "source": [
    "word = \"SHIFT\"\n",
    "\n",
    "# Rotate and print 5 times\n",
    "for i in range(5):\n",
    "    print(word[i:] + word[:i])\n",
    "\n",
    "# Print original word again\n",
    "print(word)"
   ]
  },
  {
   "cell_type": "code",
   "execution_count": null,
   "id": "91852844",
   "metadata": {},
   "outputs": [],
   "source": [
    " Write a program in python that accepts a string to setup a passwords. Your entered password must \n",
    "meet the following requirements: \n",
    "The password must be at least eight characters long. \n",
    "It must contain at least one uppercase letter. \n",
    "It must contain at least one lowercase letter. \n",
    "It must contain at least one numeric digit. \n",
    "Your program should should perform this validation."
   ]
  },
  {
   "cell_type": "code",
   "execution_count": 6,
   "id": "df0d4e71",
   "metadata": {},
   "outputs": [
    {
     "name": "stdout",
     "output_type": "stream",
     "text": [
      "Apna password likhein: 12iKLLiiii\n",
      "Shabash! Password set ho gaya hai.\n"
     ]
    }
   ],
   "source": [
    "password = input(\"Apna password likhein: \")\n",
    "\n",
    "if len(password) < 8:\n",
    "    print(\"Password kam az kam 8 characters ka hona chahiye.\")\n",
    "elif not any(char.isupper() for char in password):\n",
    "    print(\"Password mein kam az kam 1 uppercase letter hona chahiye.\")\n",
    "elif not any(char.islower() for char in password):\n",
    "    print(\"Password mein kam az kam 1 lowercase letter hona chahiye.\")\n",
    "elif not any(char.isdigit() for char in password):\n",
    "    print(\"Password mein kam az kam 1 number hona chahiye.\")\n",
    "else:\n",
    "    print(\"Shabash! Password set ho gaya hai.\")"
   ]
  },
  {
   "cell_type": "code",
   "execution_count": null,
   "id": "95848dfd",
   "metadata": {},
   "outputs": [],
   "source": []
  }
 ],
 "metadata": {
  "kernelspec": {
   "display_name": "Python 3 (ipykernel)",
   "language": "python",
   "name": "python3"
  },
  "language_info": {
   "codemirror_mode": {
    "name": "ipython",
    "version": 3
   },
   "file_extension": ".py",
   "mimetype": "text/x-python",
   "name": "python",
   "nbconvert_exporter": "python",
   "pygments_lexer": "ipython3",
   "version": "3.11.5"
  }
 },
 "nbformat": 4,
 "nbformat_minor": 5
}
