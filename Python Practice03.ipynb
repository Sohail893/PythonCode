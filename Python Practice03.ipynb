{
 "cells": [
  {
   "cell_type": "markdown",
   "id": "b5057a86",
   "metadata": {},
   "source": [
    "# Python Collection"
   ]
  },
  {
   "cell_type": "markdown",
   "id": "03550027",
   "metadata": {},
   "source": [
    "# List"
   ]
  },
  {
   "cell_type": "code",
   "execution_count": 1,
   "id": "5086ff27",
   "metadata": {},
   "outputs": [],
   "source": [
    "courses = ['Python','Web','Flutter','AI','Cyber','Web']"
   ]
  },
  {
   "cell_type": "code",
   "execution_count": 2,
   "id": "a4b2d6c9",
   "metadata": {},
   "outputs": [
    {
     "data": {
      "text/plain": [
       "['Python', 'Web', 'Flutter', 'AI', 'Cyber', 'Web']"
      ]
     },
     "execution_count": 2,
     "metadata": {},
     "output_type": "execute_result"
    }
   ],
   "source": [
    "courses"
   ]
  },
  {
   "cell_type": "code",
   "execution_count": 4,
   "id": "74678e69",
   "metadata": {},
   "outputs": [
    {
     "data": {
      "text/plain": [
       "list"
      ]
     },
     "execution_count": 4,
     "metadata": {},
     "output_type": "execute_result"
    }
   ],
   "source": [
    "type(courses)"
   ]
  },
  {
   "cell_type": "code",
   "execution_count": 5,
   "id": "4b3394f6",
   "metadata": {},
   "outputs": [
    {
     "data": {
      "text/plain": [
       "6"
      ]
     },
     "execution_count": 5,
     "metadata": {},
     "output_type": "execute_result"
    }
   ],
   "source": [
    "len(courses)"
   ]
  },
  {
   "cell_type": "code",
   "execution_count": 9,
   "id": "13455820",
   "metadata": {},
   "outputs": [],
   "source": [
    "#Retrivel of items from a list\n",
    "courses = ['Python','Web','Flutter','AI','Cyber']"
   ]
  },
  {
   "cell_type": "code",
   "execution_count": 10,
   "id": "6fe30e4a",
   "metadata": {},
   "outputs": [
    {
     "data": {
      "text/plain": [
       "'Web'"
      ]
     },
     "execution_count": 10,
     "metadata": {},
     "output_type": "execute_result"
    }
   ],
   "source": [
    "courses[1]"
   ]
  },
  {
   "cell_type": "code",
   "execution_count": 11,
   "id": "4de74504",
   "metadata": {},
   "outputs": [
    {
     "data": {
      "text/plain": [
       "'Cyber'"
      ]
     },
     "execution_count": 11,
     "metadata": {},
     "output_type": "execute_result"
    }
   ],
   "source": [
    "courses[-1]"
   ]
  },
  {
   "cell_type": "code",
   "execution_count": 12,
   "id": "74809b04",
   "metadata": {},
   "outputs": [
    {
     "data": {
      "text/plain": [
       "'AI'"
      ]
     },
     "execution_count": 12,
     "metadata": {},
     "output_type": "execute_result"
    }
   ],
   "source": [
    "courses[-2]"
   ]
  },
  {
   "cell_type": "markdown",
   "id": "66b68e4d",
   "metadata": {},
   "source": [
    "# Adding members to an existing list\n",
    "- append()\n",
    "- insert()\n",
    "- extend()\n",
    "- \"+\""
   ]
  },
  {
   "cell_type": "code",
   "execution_count": 13,
   "id": "beba65f4",
   "metadata": {},
   "outputs": [
    {
     "data": {
      "text/plain": [
       "['Python', 'Web', 'Flutter', 'AI', 'Cyber']"
      ]
     },
     "execution_count": 13,
     "metadata": {},
     "output_type": "execute_result"
    }
   ],
   "source": [
    "courses"
   ]
  },
  {
   "cell_type": "code",
   "execution_count": 14,
   "id": "a2323d5d",
   "metadata": {},
   "outputs": [],
   "source": [
    "courses.append('Blockchain')"
   ]
  },
  {
   "cell_type": "code",
   "execution_count": 15,
   "id": "880f3f8f",
   "metadata": {},
   "outputs": [
    {
     "data": {
      "text/plain": [
       "['Python', 'Web', 'Flutter', 'AI', 'Cyber', 'Blockchain']"
      ]
     },
     "execution_count": 15,
     "metadata": {},
     "output_type": "execute_result"
    }
   ],
   "source": [
    "courses"
   ]
  },
  {
   "cell_type": "code",
   "execution_count": 16,
   "id": "38d3f0c4",
   "metadata": {},
   "outputs": [],
   "source": [
    "courses.insert(3,'AWS')"
   ]
  },
  {
   "cell_type": "code",
   "execution_count": 17,
   "id": "139b1213",
   "metadata": {},
   "outputs": [
    {
     "data": {
      "text/plain": [
       "['Python', 'Web', 'Flutter', 'AWS', 'AI', 'Cyber', 'Blockchain']"
      ]
     },
     "execution_count": 17,
     "metadata": {},
     "output_type": "execute_result"
    }
   ],
   "source": [
    "courses"
   ]
  },
  {
   "cell_type": "code",
   "execution_count": 18,
   "id": "4a089de2",
   "metadata": {},
   "outputs": [],
   "source": [
    "newcourses = ['BI','Hacking','Devops']"
   ]
  },
  {
   "cell_type": "code",
   "execution_count": 19,
   "id": "12f0d1a9",
   "metadata": {},
   "outputs": [
    {
     "data": {
      "text/plain": [
       "['Python', 'Web', 'Flutter', 'AWS', 'AI', 'Cyber', 'Blockchain']"
      ]
     },
     "execution_count": 19,
     "metadata": {},
     "output_type": "execute_result"
    }
   ],
   "source": [
    "courses"
   ]
  },
  {
   "cell_type": "code",
   "execution_count": 24,
   "id": "aeb31df9",
   "metadata": {},
   "outputs": [],
   "source": [
    "courses.extend(newcourses)"
   ]
  },
  {
   "cell_type": "code",
   "execution_count": 25,
   "id": "723f8418",
   "metadata": {},
   "outputs": [
    {
     "data": {
      "text/plain": [
       "['Python',\n",
       " 'Web',\n",
       " 'Flutter',\n",
       " 'AWS',\n",
       " 'AI',\n",
       " 'Cyber',\n",
       " 'Blockchain',\n",
       " ['BI', 'Hacking', 'Devops'],\n",
       " 'BI',\n",
       " 'Hacking',\n",
       " 'Devops',\n",
       " 'BI',\n",
       " 'Hacking',\n",
       " 'Devops']"
      ]
     },
     "execution_count": 25,
     "metadata": {},
     "output_type": "execute_result"
    }
   ],
   "source": [
    "courses"
   ]
  },
  {
   "cell_type": "code",
   "execution_count": 26,
   "id": "3a8441f2",
   "metadata": {},
   "outputs": [
    {
     "data": {
      "text/plain": [
       "['BI', 'Hacking', 'Devops']"
      ]
     },
     "execution_count": 26,
     "metadata": {},
     "output_type": "execute_result"
    }
   ],
   "source": [
    "newcourses"
   ]
  },
  {
   "cell_type": "code",
   "execution_count": 27,
   "id": "4d55eabd",
   "metadata": {},
   "outputs": [],
   "source": [
    "newcourses.extend(courses)"
   ]
  },
  {
   "cell_type": "code",
   "execution_count": 28,
   "id": "07f21c2b",
   "metadata": {},
   "outputs": [
    {
     "data": {
      "text/plain": [
       "['BI',\n",
       " 'Hacking',\n",
       " 'Devops',\n",
       " 'Python',\n",
       " 'Web',\n",
       " 'Flutter',\n",
       " 'AWS',\n",
       " 'AI',\n",
       " 'Cyber',\n",
       " 'Blockchain',\n",
       " [...],\n",
       " 'BI',\n",
       " 'Hacking',\n",
       " 'Devops',\n",
       " 'BI',\n",
       " 'Hacking',\n",
       " 'Devops']"
      ]
     },
     "execution_count": 28,
     "metadata": {},
     "output_type": "execute_result"
    }
   ],
   "source": [
    "newcourses"
   ]
  },
  {
   "cell_type": "code",
   "execution_count": 30,
   "id": "63f5d171",
   "metadata": {},
   "outputs": [],
   "source": [
    "#Remove / Deleting elements from existing list\n",
    "system = 'corei7'"
   ]
  },
  {
   "cell_type": "code",
   "execution_count": 31,
   "id": "1d519ed0",
   "metadata": {},
   "outputs": [
    {
     "data": {
      "text/plain": [
       "'corei7'"
      ]
     },
     "execution_count": 31,
     "metadata": {},
     "output_type": "execute_result"
    }
   ],
   "source": [
    "system"
   ]
  },
  {
   "cell_type": "code",
   "execution_count": 32,
   "id": "a2297081",
   "metadata": {},
   "outputs": [],
   "source": [
    "del system"
   ]
  },
  {
   "cell_type": "code",
   "execution_count": 33,
   "id": "25fc6f11",
   "metadata": {},
   "outputs": [
    {
     "data": {
      "text/plain": [
       "[]"
      ]
     },
     "execution_count": 33,
     "metadata": {},
     "output_type": "execute_result"
    }
   ],
   "source": [
    "system"
   ]
  },
  {
   "cell_type": "code",
   "execution_count": 34,
   "id": "44e31845",
   "metadata": {},
   "outputs": [],
   "source": [
    "del courses[8]"
   ]
  },
  {
   "cell_type": "code",
   "execution_count": 35,
   "id": "8a823496",
   "metadata": {},
   "outputs": [
    {
     "data": {
      "text/plain": [
       "['Python',\n",
       " 'Web',\n",
       " 'Flutter',\n",
       " 'AWS',\n",
       " 'AI',\n",
       " 'Cyber',\n",
       " 'Blockchain',\n",
       " ['BI',\n",
       "  'Hacking',\n",
       "  'Devops',\n",
       "  'Python',\n",
       "  'Web',\n",
       "  'Flutter',\n",
       "  'AWS',\n",
       "  'AI',\n",
       "  'Cyber',\n",
       "  'Blockchain',\n",
       "  [...],\n",
       "  'BI',\n",
       "  'Hacking',\n",
       "  'Devops',\n",
       "  'BI',\n",
       "  'Hacking',\n",
       "  'Devops'],\n",
       " 'Hacking',\n",
       " 'Devops',\n",
       " 'BI',\n",
       " 'Hacking',\n",
       " 'Devops']"
      ]
     },
     "execution_count": 35,
     "metadata": {},
     "output_type": "execute_result"
    }
   ],
   "source": [
    "courses"
   ]
  },
  {
   "cell_type": "code",
   "execution_count": 36,
   "id": "15b352bf",
   "metadata": {},
   "outputs": [],
   "source": [
    "courses.remove('Devops')"
   ]
  },
  {
   "cell_type": "code",
   "execution_count": 37,
   "id": "e84bc076",
   "metadata": {},
   "outputs": [
    {
     "data": {
      "text/plain": [
       "['Python',\n",
       " 'Web',\n",
       " 'Flutter',\n",
       " 'AWS',\n",
       " 'AI',\n",
       " 'Cyber',\n",
       " 'Blockchain',\n",
       " ['BI',\n",
       "  'Hacking',\n",
       "  'Devops',\n",
       "  'Python',\n",
       "  'Web',\n",
       "  'Flutter',\n",
       "  'AWS',\n",
       "  'AI',\n",
       "  'Cyber',\n",
       "  'Blockchain',\n",
       "  [...],\n",
       "  'BI',\n",
       "  'Hacking',\n",
       "  'Devops',\n",
       "  'BI',\n",
       "  'Hacking',\n",
       "  'Devops'],\n",
       " 'Hacking',\n",
       " 'BI',\n",
       " 'Hacking',\n",
       " 'Devops']"
      ]
     },
     "execution_count": 37,
     "metadata": {},
     "output_type": "execute_result"
    }
   ],
   "source": [
    "courses"
   ]
  },
  {
   "cell_type": "code",
   "execution_count": 39,
   "id": "f6164bb3",
   "metadata": {},
   "outputs": [
    {
     "data": {
      "text/plain": [
       "'Devops'"
      ]
     },
     "execution_count": 39,
     "metadata": {},
     "output_type": "execute_result"
    }
   ],
   "source": [
    "courses.pop()"
   ]
  },
  {
   "cell_type": "code",
   "execution_count": 40,
   "id": "e74e7ec0",
   "metadata": {},
   "outputs": [],
   "source": [
    "courses.clear()"
   ]
  },
  {
   "cell_type": "code",
   "execution_count": 41,
   "id": "0d492069",
   "metadata": {},
   "outputs": [
    {
     "data": {
      "text/plain": [
       "[]"
      ]
     },
     "execution_count": 41,
     "metadata": {},
     "output_type": "execute_result"
    }
   ],
   "source": [
    "courses"
   ]
  },
  {
   "cell_type": "code",
   "execution_count": 42,
   "id": "fb4155e7",
   "metadata": {},
   "outputs": [],
   "source": [
    "foods = ['Biryani','Raita','Salad','Labshrain']"
   ]
  },
  {
   "cell_type": "code",
   "execution_count": 43,
   "id": "2aa179ba",
   "metadata": {},
   "outputs": [
    {
     "data": {
      "text/plain": [
       "['Biryani', 'Raita', 'Salad', 'Labshrain']"
      ]
     },
     "execution_count": 43,
     "metadata": {},
     "output_type": "execute_result"
    }
   ],
   "source": [
    "foods"
   ]
  },
  {
   "cell_type": "code",
   "execution_count": 45,
   "id": "022d9b09",
   "metadata": {},
   "outputs": [
    {
     "data": {
      "text/plain": [
       "1"
      ]
     },
     "execution_count": 45,
     "metadata": {},
     "output_type": "execute_result"
    }
   ],
   "source": [
    "foods.count('Raita')"
   ]
  },
  {
   "cell_type": "code",
   "execution_count": 46,
   "id": "65576218",
   "metadata": {},
   "outputs": [
    {
     "data": {
      "text/plain": [
       "1"
      ]
     },
     "execution_count": 46,
     "metadata": {},
     "output_type": "execute_result"
    }
   ],
   "source": [
    "foods.index('Raita')"
   ]
  },
  {
   "cell_type": "code",
   "execution_count": 47,
   "id": "702c41d4",
   "metadata": {},
   "outputs": [],
   "source": [
    "foods.reverse()"
   ]
  },
  {
   "cell_type": "code",
   "execution_count": 48,
   "id": "9f17345c",
   "metadata": {},
   "outputs": [
    {
     "data": {
      "text/plain": [
       "['Labshrain', 'Salad', 'Raita', 'Biryani']"
      ]
     },
     "execution_count": 48,
     "metadata": {},
     "output_type": "execute_result"
    }
   ],
   "source": [
    "foods"
   ]
  },
  {
   "cell_type": "code",
   "execution_count": 51,
   "id": "af85b656",
   "metadata": {},
   "outputs": [],
   "source": [
    "foods.sort(reverse=True)"
   ]
  },
  {
   "cell_type": "code",
   "execution_count": 52,
   "id": "aafc0369",
   "metadata": {},
   "outputs": [
    {
     "data": {
      "text/plain": [
       "['Salad', 'Raita', 'Labshrain', 'Biryani']"
      ]
     },
     "execution_count": 52,
     "metadata": {},
     "output_type": "execute_result"
    }
   ],
   "source": [
    "foods"
   ]
  },
  {
   "cell_type": "code",
   "execution_count": 53,
   "id": "71666bbd",
   "metadata": {},
   "outputs": [],
   "source": [
    "foods[2] = 'Cholabi'"
   ]
  },
  {
   "cell_type": "code",
   "execution_count": 54,
   "id": "ad8ee72b",
   "metadata": {},
   "outputs": [
    {
     "data": {
      "text/plain": [
       "['Salad', 'Raita', 'Cholabi', 'Biryani']"
      ]
     },
     "execution_count": 54,
     "metadata": {},
     "output_type": "execute_result"
    }
   ],
   "source": [
    "foods #updating"
   ]
  },
  {
   "cell_type": "markdown",
   "id": "5952daa4",
   "metadata": {},
   "source": [
    "# List Slicing"
   ]
  },
  {
   "cell_type": "code",
   "execution_count": 55,
   "id": "50f79fef",
   "metadata": {},
   "outputs": [],
   "source": [
    "guests = ['Khala','Phoppo','Mamu','Nasir','ChotayMamu']"
   ]
  },
  {
   "cell_type": "code",
   "execution_count": 56,
   "id": "3a9e64cf",
   "metadata": {},
   "outputs": [
    {
     "data": {
      "text/plain": [
       "['Khala', 'Phoppo', 'Mamu', 'Nasir', 'ChotayMamu']"
      ]
     },
     "execution_count": 56,
     "metadata": {},
     "output_type": "execute_result"
    }
   ],
   "source": [
    "guests"
   ]
  },
  {
   "cell_type": "code",
   "execution_count": 57,
   "id": "be5dd0ae",
   "metadata": {},
   "outputs": [
    {
     "data": {
      "text/plain": [
       "['Mamu', 'Nasir', 'ChotayMamu']"
      ]
     },
     "execution_count": 57,
     "metadata": {},
     "output_type": "execute_result"
    }
   ],
   "source": [
    "guests[2:6]"
   ]
  },
  {
   "cell_type": "code",
   "execution_count": 58,
   "id": "75ef5d7a",
   "metadata": {},
   "outputs": [
    {
     "data": {
      "text/plain": [
       "['Khala', 'Phoppo', 'Mamu', 'Nasir', 'ChotayMamu']"
      ]
     },
     "execution_count": 58,
     "metadata": {},
     "output_type": "execute_result"
    }
   ],
   "source": [
    "guests[::]"
   ]
  },
  {
   "cell_type": "code",
   "execution_count": 59,
   "id": "5c4ff4cd",
   "metadata": {},
   "outputs": [
    {
     "data": {
      "text/plain": [
       "['Khala', 'Mamu', 'ChotayMamu']"
      ]
     },
     "execution_count": 59,
     "metadata": {},
     "output_type": "execute_result"
    }
   ],
   "source": [
    "guests[::2]"
   ]
  },
  {
   "cell_type": "code",
   "execution_count": 60,
   "id": "f04ae498",
   "metadata": {},
   "outputs": [
    {
     "data": {
      "text/plain": [
       "['Mamu', 'Khala']"
      ]
     },
     "execution_count": 60,
     "metadata": {},
     "output_type": "execute_result"
    }
   ],
   "source": [
    "guests[2::-2]"
   ]
  },
  {
   "cell_type": "code",
   "execution_count": null,
   "id": "7f334b64",
   "metadata": {},
   "outputs": [],
   "source": []
  }
 ],
 "metadata": {
  "kernelspec": {
   "display_name": "Python 3 (ipykernel)",
   "language": "python",
   "name": "python3"
  },
  "language_info": {
   "codemirror_mode": {
    "name": "ipython",
    "version": 3
   },
   "file_extension": ".py",
   "mimetype": "text/x-python",
   "name": "python",
   "nbconvert_exporter": "python",
   "pygments_lexer": "ipython3",
   "version": "3.11.5"
  }
 },
 "nbformat": 4,
 "nbformat_minor": 5
}
