{
 "cells": [
  {
   "cell_type": "markdown",
   "id": "e2b962f8",
   "metadata": {},
   "source": [
    "# Loops"
   ]
  },
  {
   "cell_type": "code",
   "execution_count": 64,
   "id": "1246e5e0",
   "metadata": {},
   "outputs": [
    {
     "name": "stdout",
     "output_type": "stream",
     "text": [
      "0 Sohail Abbas\n",
      "1 Sohail Abbas\n",
      "2 Sohail Abbas\n",
      "3 Sohail Abbas\n",
      "4 Sohail Abbas\n",
      "5 Sohail Abbas\n",
      "6 Sohail Abbas\n",
      "7 Sohail Abbas\n",
      "8 Sohail Abbas\n",
      "9 Sohail Abbas\n"
     ]
    }
   ],
   "source": [
    "for a in range(10):\n",
    "    print(a,\"Sohail Abbas\")"
   ]
  },
  {
   "cell_type": "code",
   "execution_count": 65,
   "id": "51b080f2",
   "metadata": {},
   "outputs": [],
   "source": [
    "courses = ['Python','Web','Flutter','GD','Cyber']"
   ]
  },
  {
   "cell_type": "code",
   "execution_count": 66,
   "id": "b9ec5030",
   "metadata": {},
   "outputs": [
    {
     "name": "stdout",
     "output_type": "stream",
     "text": [
      " we are offering Python course\n",
      " we are offering Web course\n",
      " we are offering Flutter course\n",
      " we are offering GD course\n",
      " we are offering Cyber course\n"
     ]
    }
   ],
   "source": [
    "for course in courses:\n",
    "    print(f\" we are offering {course} course\")"
   ]
  },
  {
   "cell_type": "code",
   "execution_count": 67,
   "id": "3e6ac215",
   "metadata": {},
   "outputs": [
    {
     "data": {
      "text/plain": [
       "range(0, 10)"
      ]
     },
     "execution_count": 67,
     "metadata": {},
     "output_type": "execute_result"
    }
   ],
   "source": [
    "range(10)"
   ]
  },
  {
   "cell_type": "code",
   "execution_count": 68,
   "id": "b3cf7306",
   "metadata": {},
   "outputs": [
    {
     "data": {
      "text/plain": [
       "[0, 1, 2, 3, 4, 5, 6, 7, 8, 9]"
      ]
     },
     "execution_count": 68,
     "metadata": {},
     "output_type": "execute_result"
    }
   ],
   "source": [
    "list(range(10))"
   ]
  },
  {
   "cell_type": "code",
   "execution_count": 69,
   "id": "83f4f617",
   "metadata": {},
   "outputs": [],
   "source": [
    "students = ['Hamza','Saif','Muhammad Arbab','Kashif','Rehan',]"
   ]
  },
  {
   "cell_type": "code",
   "execution_count": 70,
   "id": "1f27c70f",
   "metadata": {},
   "outputs": [
    {
     "data": {
      "text/plain": [
       "['Hamza', 'Saif', 'Muhammad Arbab', 'Kashif', 'Rehan']"
      ]
     },
     "execution_count": 70,
     "metadata": {},
     "output_type": "execute_result"
    }
   ],
   "source": [
    "students"
   ]
  },
  {
   "cell_type": "code",
   "execution_count": 71,
   "id": "646797c6",
   "metadata": {},
   "outputs": [
    {
     "name": "stdout",
     "output_type": "stream",
     "text": [
      "HAMZA\n",
      "SAIF\n",
      "MUHAMMAD ARBAB\n",
      "KASHIF\n",
      "REHAN\n"
     ]
    }
   ],
   "source": [
    "for student in students:\n",
    "    print(student.upper())"
   ]
  },
  {
   "cell_type": "code",
   "execution_count": 72,
   "id": "215bb451",
   "metadata": {},
   "outputs": [
    {
     "name": "stdout",
     "output_type": "stream",
     "text": [
      "HamzaKal chutti ha\n",
      "Saif Kal zaroor ana\n",
      "Muhammad ArbabKal chutti ha\n",
      "KashifKal chutti ha\n",
      "RehanKal chutti ha\n"
     ]
    }
   ],
   "source": [
    "for student in students:\n",
    "    if student !='Saif':\n",
    "        print(f\"{student}Kal chutti ha\")\n",
    "    else:\n",
    "        print(f\"{student} Kal zaroor ana\")"
   ]
  },
  {
   "cell_type": "code",
   "execution_count": 73,
   "id": "dcd13e95",
   "metadata": {},
   "outputs": [
    {
     "name": "stdout",
     "output_type": "stream",
     "text": [
      "Saif: Your are selected for intenship\n"
     ]
    }
   ],
   "source": [
    "#message all students whose name is less than or equal to 4 characters\n",
    "for student in students:\n",
    "    if len(student) <=4:\n",
    "        print(f\"{student}: Your are selected for intenship\")"
   ]
  },
  {
   "cell_type": "code",
   "execution_count": 74,
   "id": "d3718cd3",
   "metadata": {},
   "outputs": [],
   "source": [
    "lst = list(range(1,101))"
   ]
  },
  {
   "cell_type": "code",
   "execution_count": 75,
   "id": "26d016b5",
   "metadata": {},
   "outputs": [],
   "source": [
    "lst_of_mutiples_of_5 = []\n"
   ]
  },
  {
   "cell_type": "code",
   "execution_count": 76,
   "id": "36bf7cd1",
   "metadata": {},
   "outputs": [],
   "source": [
    "for num in lst:\n",
    "    if num%5==0:\n",
    "        lst_of_mutiples_of_5.append(num)"
   ]
  },
  {
   "cell_type": "code",
   "execution_count": 77,
   "id": "80675b36",
   "metadata": {},
   "outputs": [
    {
     "data": {
      "text/plain": [
       "[5,\n",
       " 10,\n",
       " 15,\n",
       " 20,\n",
       " 25,\n",
       " 30,\n",
       " 35,\n",
       " 40,\n",
       " 45,\n",
       " 50,\n",
       " 55,\n",
       " 60,\n",
       " 65,\n",
       " 70,\n",
       " 75,\n",
       " 80,\n",
       " 85,\n",
       " 90,\n",
       " 95,\n",
       " 100]"
      ]
     },
     "execution_count": 77,
     "metadata": {},
     "output_type": "execute_result"
    }
   ],
   "source": [
    "lst_of_mutiples_of_5"
   ]
  },
  {
   "cell_type": "code",
   "execution_count": 78,
   "id": "761a67ed",
   "metadata": {},
   "outputs": [],
   "source": [
    "newlst = []"
   ]
  },
  {
   "cell_type": "code",
   "execution_count": 79,
   "id": "df6474e3",
   "metadata": {},
   "outputs": [],
   "source": [
    "for num in lst:\n",
    "    if (num%5==0) and (num%10!=0):\n",
    "        newlst.append(num)"
   ]
  },
  {
   "cell_type": "code",
   "execution_count": 80,
   "id": "b8714005",
   "metadata": {},
   "outputs": [
    {
     "data": {
      "text/plain": [
       "[5, 15, 25, 35, 45, 55, 65, 75, 85, 95]"
      ]
     },
     "execution_count": 80,
     "metadata": {},
     "output_type": "execute_result"
    }
   ],
   "source": [
    "newlst"
   ]
  },
  {
   "cell_type": "code",
   "execution_count": 81,
   "id": "7106bca5",
   "metadata": {},
   "outputs": [],
   "source": [
    "mof5 = []\n",
    "notmof5 = []\n",
    "for num in lst:\n",
    "    if num%5==0:\n",
    "        mof5.append(num)\n",
    "    else:\n",
    "        notmof5.append(num)"
   ]
  },
  {
   "cell_type": "code",
   "execution_count": 82,
   "id": "2eca60e9",
   "metadata": {},
   "outputs": [
    {
     "data": {
      "text/plain": [
       "[5,\n",
       " 10,\n",
       " 15,\n",
       " 20,\n",
       " 25,\n",
       " 30,\n",
       " 35,\n",
       " 40,\n",
       " 45,\n",
       " 50,\n",
       " 55,\n",
       " 60,\n",
       " 65,\n",
       " 70,\n",
       " 75,\n",
       " 80,\n",
       " 85,\n",
       " 90,\n",
       " 95,\n",
       " 100]"
      ]
     },
     "execution_count": 82,
     "metadata": {},
     "output_type": "execute_result"
    }
   ],
   "source": [
    "mof5"
   ]
  },
  {
   "cell_type": "code",
   "execution_count": 83,
   "id": "1dc01692",
   "metadata": {},
   "outputs": [
    {
     "data": {
      "text/plain": [
       "[1,\n",
       " 2,\n",
       " 3,\n",
       " 4,\n",
       " 6,\n",
       " 7,\n",
       " 8,\n",
       " 9,\n",
       " 11,\n",
       " 12,\n",
       " 13,\n",
       " 14,\n",
       " 16,\n",
       " 17,\n",
       " 18,\n",
       " 19,\n",
       " 21,\n",
       " 22,\n",
       " 23,\n",
       " 24,\n",
       " 26,\n",
       " 27,\n",
       " 28,\n",
       " 29,\n",
       " 31,\n",
       " 32,\n",
       " 33,\n",
       " 34,\n",
       " 36,\n",
       " 37,\n",
       " 38,\n",
       " 39,\n",
       " 41,\n",
       " 42,\n",
       " 43,\n",
       " 44,\n",
       " 46,\n",
       " 47,\n",
       " 48,\n",
       " 49,\n",
       " 51,\n",
       " 52,\n",
       " 53,\n",
       " 54,\n",
       " 56,\n",
       " 57,\n",
       " 58,\n",
       " 59,\n",
       " 61,\n",
       " 62,\n",
       " 63,\n",
       " 64,\n",
       " 66,\n",
       " 67,\n",
       " 68,\n",
       " 69,\n",
       " 71,\n",
       " 72,\n",
       " 73,\n",
       " 74,\n",
       " 76,\n",
       " 77,\n",
       " 78,\n",
       " 79,\n",
       " 81,\n",
       " 82,\n",
       " 83,\n",
       " 84,\n",
       " 86,\n",
       " 87,\n",
       " 88,\n",
       " 89,\n",
       " 91,\n",
       " 92,\n",
       " 93,\n",
       " 94,\n",
       " 96,\n",
       " 97,\n",
       " 98,\n",
       " 99]"
      ]
     },
     "execution_count": 83,
     "metadata": {},
     "output_type": "execute_result"
    }
   ],
   "source": [
    "notmof5"
   ]
  },
  {
   "cell_type": "code",
   "execution_count": 86,
   "id": "bf96863b",
   "metadata": {},
   "outputs": [],
   "source": [
    "List = list(range(20))"
   ]
  },
  {
   "cell_type": "code",
   "execution_count": 87,
   "id": "ed4e23a1",
   "metadata": {},
   "outputs": [],
   "source": [
    "even = []\n",
    "odd = []\n",
    "for num in List:\n",
    "    if num%2==0:\n",
    "        even.append(num)\n",
    "    else:\n",
    "        odd.append(num)"
   ]
  },
  {
   "cell_type": "code",
   "execution_count": 88,
   "id": "4bebf762",
   "metadata": {},
   "outputs": [
    {
     "data": {
      "text/plain": [
       "[0, 2, 4, 6, 8, 10, 12, 14, 16, 18]"
      ]
     },
     "execution_count": 88,
     "metadata": {},
     "output_type": "execute_result"
    }
   ],
   "source": [
    "even"
   ]
  },
  {
   "cell_type": "code",
   "execution_count": 89,
   "id": "bcd0542e",
   "metadata": {},
   "outputs": [
    {
     "name": "stdout",
     "output_type": "stream",
     "text": [
      "[0, 2, 4, 6, 8, 10, 12, 14, 16, 18]\n"
     ]
    }
   ],
   "source": [
    "print(even)"
   ]
  },
  {
   "cell_type": "code",
   "execution_count": 90,
   "id": "32acd3fc",
   "metadata": {},
   "outputs": [
    {
     "name": "stdout",
     "output_type": "stream",
     "text": [
      "[1, 3, 5, 7, 9, 11, 13, 15, 17, 19]\n"
     ]
    }
   ],
   "source": [
    "print(odd)"
   ]
  },
  {
   "cell_type": "markdown",
   "id": "1d5a29c1",
   "metadata": {},
   "source": [
    "# List Comprehension"
   ]
  },
  {
   "cell_type": "code",
   "execution_count": 93,
   "id": "70b4e993",
   "metadata": {},
   "outputs": [],
   "source": [
    "squares = []\n",
    "for num in List:\n",
    "    square = num**2\n",
    "    squares.append(square)"
   ]
  },
  {
   "cell_type": "code",
   "execution_count": 94,
   "id": "35eb73c7",
   "metadata": {},
   "outputs": [
    {
     "name": "stdout",
     "output_type": "stream",
     "text": [
      "[0, 1, 4, 9, 16, 25, 36, 49, 64, 81, 100, 121, 144, 169, 196, 225, 256, 289, 324, 361]\n"
     ]
    }
   ],
   "source": [
    "print(squares)"
   ]
  },
  {
   "cell_type": "code",
   "execution_count": 95,
   "id": "66df60de",
   "metadata": {},
   "outputs": [
    {
     "data": {
      "text/plain": [
       "[1,\n",
       " 4,\n",
       " 9,\n",
       " 16,\n",
       " 25,\n",
       " 36,\n",
       " 49,\n",
       " 64,\n",
       " 81,\n",
       " 100,\n",
       " 121,\n",
       " 144,\n",
       " 169,\n",
       " 196,\n",
       " 225,\n",
       " 256,\n",
       " 289,\n",
       " 324,\n",
       " 361,\n",
       " 400,\n",
       " 441,\n",
       " 484,\n",
       " 529,\n",
       " 576,\n",
       " 625,\n",
       " 676,\n",
       " 729,\n",
       " 784,\n",
       " 841,\n",
       " 900,\n",
       " 961,\n",
       " 1024,\n",
       " 1089,\n",
       " 1156,\n",
       " 1225,\n",
       " 1296,\n",
       " 1369,\n",
       " 1444,\n",
       " 1521,\n",
       " 1600,\n",
       " 1681,\n",
       " 1764,\n",
       " 1849,\n",
       " 1936,\n",
       " 2025,\n",
       " 2116,\n",
       " 2209,\n",
       " 2304,\n",
       " 2401,\n",
       " 2500,\n",
       " 2601,\n",
       " 2704,\n",
       " 2809,\n",
       " 2916,\n",
       " 3025,\n",
       " 3136,\n",
       " 3249,\n",
       " 3364,\n",
       " 3481,\n",
       " 3600,\n",
       " 3721,\n",
       " 3844,\n",
       " 3969,\n",
       " 4096,\n",
       " 4225,\n",
       " 4356,\n",
       " 4489,\n",
       " 4624,\n",
       " 4761,\n",
       " 4900,\n",
       " 5041,\n",
       " 5184,\n",
       " 5329,\n",
       " 5476,\n",
       " 5625,\n",
       " 5776,\n",
       " 5929,\n",
       " 6084,\n",
       " 6241,\n",
       " 6400,\n",
       " 6561,\n",
       " 6724,\n",
       " 6889,\n",
       " 7056,\n",
       " 7225,\n",
       " 7396,\n",
       " 7569,\n",
       " 7744,\n",
       " 7921,\n",
       " 8100,\n",
       " 8281,\n",
       " 8464,\n",
       " 8649,\n",
       " 8836,\n",
       " 9025,\n",
       " 9216,\n",
       " 9409,\n",
       " 9604,\n",
       " 9801,\n",
       " 10000]"
      ]
     },
     "execution_count": 95,
     "metadata": {},
     "output_type": "execute_result"
    }
   ],
   "source": [
    "[num**2 for num in lst]"
   ]
  },
  {
   "cell_type": "code",
   "execution_count": 96,
   "id": "89feae9d",
   "metadata": {},
   "outputs": [],
   "source": [
    "evens = [num for num in lst if num%2==0]"
   ]
  },
  {
   "cell_type": "code",
   "execution_count": 97,
   "id": "a944f05b",
   "metadata": {},
   "outputs": [
    {
     "data": {
      "text/plain": [
       "[2,\n",
       " 4,\n",
       " 6,\n",
       " 8,\n",
       " 10,\n",
       " 12,\n",
       " 14,\n",
       " 16,\n",
       " 18,\n",
       " 20,\n",
       " 22,\n",
       " 24,\n",
       " 26,\n",
       " 28,\n",
       " 30,\n",
       " 32,\n",
       " 34,\n",
       " 36,\n",
       " 38,\n",
       " 40,\n",
       " 42,\n",
       " 44,\n",
       " 46,\n",
       " 48,\n",
       " 50,\n",
       " 52,\n",
       " 54,\n",
       " 56,\n",
       " 58,\n",
       " 60,\n",
       " 62,\n",
       " 64,\n",
       " 66,\n",
       " 68,\n",
       " 70,\n",
       " 72,\n",
       " 74,\n",
       " 76,\n",
       " 78,\n",
       " 80,\n",
       " 82,\n",
       " 84,\n",
       " 86,\n",
       " 88,\n",
       " 90,\n",
       " 92,\n",
       " 94,\n",
       " 96,\n",
       " 98,\n",
       " 100]"
      ]
     },
     "execution_count": 97,
     "metadata": {},
     "output_type": "execute_result"
    }
   ],
   "source": [
    "evens"
   ]
  },
  {
   "cell_type": "code",
   "execution_count": 100,
   "id": "54155c64",
   "metadata": {},
   "outputs": [
    {
     "data": {
      "text/plain": [
       "[None,\n",
       " 2,\n",
       " None,\n",
       " 4,\n",
       " None,\n",
       " 6,\n",
       " None,\n",
       " 8,\n",
       " None,\n",
       " 10,\n",
       " None,\n",
       " 12,\n",
       " None,\n",
       " 14,\n",
       " None,\n",
       " 16,\n",
       " None,\n",
       " 18,\n",
       " None,\n",
       " 20,\n",
       " None,\n",
       " 22,\n",
       " None,\n",
       " 24,\n",
       " None,\n",
       " 26,\n",
       " None,\n",
       " 28,\n",
       " None,\n",
       " 30,\n",
       " None,\n",
       " 32,\n",
       " None,\n",
       " 34,\n",
       " None,\n",
       " 36,\n",
       " None,\n",
       " 38,\n",
       " None,\n",
       " 40,\n",
       " None,\n",
       " 42,\n",
       " None,\n",
       " 44,\n",
       " None,\n",
       " 46,\n",
       " None,\n",
       " 48,\n",
       " None,\n",
       " 50,\n",
       " None,\n",
       " 52,\n",
       " None,\n",
       " 54,\n",
       " None,\n",
       " 56,\n",
       " None,\n",
       " 58,\n",
       " None,\n",
       " 60,\n",
       " None,\n",
       " 62,\n",
       " None,\n",
       " 64,\n",
       " None,\n",
       " 66,\n",
       " None,\n",
       " 68,\n",
       " None,\n",
       " 70,\n",
       " None,\n",
       " 72,\n",
       " None,\n",
       " 74,\n",
       " None,\n",
       " 76,\n",
       " None,\n",
       " 78,\n",
       " None,\n",
       " 80,\n",
       " None,\n",
       " 82,\n",
       " None,\n",
       " 84,\n",
       " None,\n",
       " 86,\n",
       " None,\n",
       " 88,\n",
       " None,\n",
       " 90,\n",
       " None,\n",
       " 92,\n",
       " None,\n",
       " 94,\n",
       " None,\n",
       " 96,\n",
       " None,\n",
       " 98,\n",
       " None,\n",
       " 100]"
      ]
     },
     "execution_count": 100,
     "metadata": {},
     "output_type": "execute_result"
    }
   ],
   "source": [
    "odds = []\n",
    "evens = []\n",
    "[num if num%2==0 else odds.append(num) for num in lst]"
   ]
  },
  {
   "cell_type": "code",
   "execution_count": 101,
   "id": "51e18550",
   "metadata": {},
   "outputs": [
    {
     "data": {
      "text/plain": [
       "[]"
      ]
     },
     "execution_count": 101,
     "metadata": {},
     "output_type": "execute_result"
    }
   ],
   "source": [
    "evens"
   ]
  },
  {
   "cell_type": "code",
   "execution_count": 103,
   "id": "d9908d00",
   "metadata": {},
   "outputs": [
    {
     "data": {
      "text/plain": [
       "['0 is Even',\n",
       " '1 is Odd',\n",
       " '2 is Even',\n",
       " '3 is Odd',\n",
       " '4 is Even',\n",
       " '5 is Odd',\n",
       " '6 is Even',\n",
       " '7 is Odd',\n",
       " '8 is Even',\n",
       " '9 is Odd',\n",
       " '10 is Even',\n",
       " '11 is Odd',\n",
       " '12 is Even',\n",
       " '13 is Odd',\n",
       " '14 is Even',\n",
       " '15 is Odd',\n",
       " '16 is Even',\n",
       " '17 is Odd',\n",
       " '18 is Even',\n",
       " '19 is Odd']"
      ]
     },
     "execution_count": 103,
     "metadata": {},
     "output_type": "execute_result"
    }
   ],
   "source": [
    "[f\"{num} is Even\" if num%2==0 else f\"{num} is Odd\" for num in List]"
   ]
  },
  {
   "cell_type": "code",
   "execution_count": null,
   "id": "9cf0fac6",
   "metadata": {},
   "outputs": [],
   "source": []
  }
 ],
 "metadata": {
  "kernelspec": {
   "display_name": "Python 3 (ipykernel)",
   "language": "python",
   "name": "python3"
  },
  "language_info": {
   "codemirror_mode": {
    "name": "ipython",
    "version": 3
   },
   "file_extension": ".py",
   "mimetype": "text/x-python",
   "name": "python",
   "nbconvert_exporter": "python",
   "pygments_lexer": "ipython3",
   "version": "3.11.5"
  }
 },
 "nbformat": 4,
 "nbformat_minor": 5
}
